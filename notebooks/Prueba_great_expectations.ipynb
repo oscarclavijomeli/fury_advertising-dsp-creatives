{
 "cells": [
  {
   "cell_type": "code",
   "execution_count": 1,
   "id": "27e886d7",
   "metadata": {},
   "outputs": [
    {
     "name": "stderr",
     "output_type": "stream",
     "text": [
      "2022-11-29T16:13:53-0400 - WARNING: /root/.cache/pypoetry/virtualenvs/app-T22veBjD-py3.7/lib/python3.7/site-packages/great_expectations/execution_engine/sqlalchemy_execution_engine.py:157: UserWarning: Obsolete pybigquery is installed, which is likely to\n",
      "interfere with sqlalchemy_bigquery.\n",
      "pybigquery should be uninstalled.\n",
      "  import sqlalchemy_bigquery as sqla_bigquery\n",
      "  [level: WARNING]\n"
     ]
    }
   ],
   "source": [
    "import pandas as pd\n",
    "from app.data.utils.bigquery import BigQuery\n",
    "from app.conf.settings import PROJECT_ID, DATASET_ID,SECRET_NAME, DEFAULT_PARAMS\n",
    "from app.data.utils.great_expectations_service  import DataQuality\n",
    "from app.data.utils.load_query import load_format"
   ]
  },
  {
   "cell_type": "code",
   "execution_count": 2,
   "id": "4a825b5d",
   "metadata": {},
   "outputs": [],
   "source": [
    "bigquery = BigQuery()\n"
   ]
  },
  {
   "cell_type": "code",
   "execution_count": 3,
   "id": "d0d1f64c",
   "metadata": {},
   "outputs": [],
   "source": [
    "query = \"\"\"\n",
    "\n",
    "    WITH prints AS (\n",
    "        SELECT\n",
    "            id,\n",
    "            event_data,\n",
    "            `ds`,\n",
    "            site,\n",
    "             json_extract_scalar(`event_data`, '$.print_id') AS print_id,\n",
    "            `user`.`user_id` AS `user_id`,\n",
    "            CAST(REPLACE(`server_timestamp`, \"T\", ' ') AS TIMESTAMP) AS ts\n",
    "        FROM\n",
    "            meli-bi-data.MELIDATA.ADVERTISING\n",
    "        WHERE\n",
    "            `ds` >= '2022-11-28'\n",
    "            AND `ds` < '{end_date}'\n",
    "            AND `event` = 'display_prints'\n",
    "            AND site = '{site_id}'\n",
    "            AND json_extract_scalar(`event_data`, '$.content_source') = 'DSP'\n",
    "            AND json_extract_scalar(event_data, '$.valid')= 'true'\n",
    "            AND (NOT\n",
    "                REGEXP_CONTAINS(LOWER(`device`.user_agent),\n",
    "                '.*(libwww|wget|lwp|damnBot|bbbike|java|spider|crawl|slurp|bot|feedburner|googleimageproxy|google web preview).*')\n",
    "            )\n",
    "    ),\n",
    "    clicks AS (\n",
    "        SELECT\n",
    "            `ds`,\n",
    "            site,\n",
    "            `user`.`user_id` AS `user_id`,\n",
    "            json_extract_scalar(`event_data`, '$.print_id') AS print_id,\n",
    "            json_extract_scalar(`event_data`, '$.click_id') AS click_id,\n",
    "            CAST(REPLACE(`server_timestamp`, \"T\", ' ') AS TIMESTAMP) AS ts\n",
    "        FROM\n",
    "            meli-bi-data.MELIDATA.ADVERTISING\n",
    "        WHERE\n",
    "            `ds` >= '2022-11-28'\n",
    "            AND `event` = 'display_clicks'\n",
    "            AND site = '{site_id}'\n",
    "            AND json_extract_scalar(`event_data`, '$.content_source') = 'DSP'\n",
    "            AND (NOT\n",
    "                REGEXP_CONTAINS(LOWER(`device`.user_agent),\n",
    "                '.*(libwww|wget|lwp|damnBot|bbbike|java|spider|crawl|slurp|bot|feedburner|googleimageproxy|google web preview).*')\n",
    "            )\n",
    "    ),\n",
    "    prints_clicks AS (\n",
    "        SELECT DISTINCT\n",
    "            prints.id AS id,\n",
    "            prints.ds AS ds,\n",
    "            prints.site,\n",
    "            CAST(\n",
    "                json_extract_scalar(prints.event_data, '$.campaign_id') AS INT64\n",
    "            ) AS campaign_id,\n",
    "            CAST(json_extract_scalar(prints.event_data, '$.line_item_id') AS INT64) AS line_item_id,\n",
    "            CAST(json_extract_scalar(prints.event_data, '$.creative_id') AS INT64) AS creative_id,\n",
    "            CASE\n",
    "                WHEN clicks.ds IS NOT NULL THEN 1 \n",
    "                ELSE 0\n",
    "            END AS target\n",
    "        FROM prints\n",
    "        LEFT JOIN clicks\n",
    "        ON prints.print_id = clicks.print_id\n",
    "            AND ((prints.user_id = clicks.user_id) OR clicks.user_id IS NULL)\n",
    "            AND TIMESTAMP_DIFF(clicks.ts, prints.ts, SECOND) <= {click_window}\n",
    "            AND prints.site = clicks.site\n",
    "    )\n",
    "\n",
    "    SELECT\n",
    "        ds,\n",
    "        site,\n",
    "        campaign_id,\n",
    "        line_item_id,\n",
    "        creative_id,\n",
    "        COUNT(*) AS n_prints,\n",
    "        SUM(target) AS n_clicks\n",
    "    FROM prints_clicks\n",
    "    GROUP BY 1,2,3,4,5\n",
    "    ;\n",
    "\"\"\""
   ]
  },
  {
   "cell_type": "code",
   "execution_count": 7,
   "id": "4b4179d8",
   "metadata": {},
   "outputs": [],
   "source": [
    "#query = 'select * from meli-bi-data.SBOX_DSPCREATIVOS.BQ_PRINTS_CLICKS_PER_DAY'"
   ]
  },
  {
   "cell_type": "code",
   "execution_count": 4,
   "id": "778218a6",
   "metadata": {},
   "outputs": [
    {
     "name": "stderr",
     "output_type": "stream",
     "text": [
      "2022-11-29T16:14:01-0400 - INFO: Executing...  [level: INFO]\n"
     ]
    },
    {
     "name": "stdout",
     "output_type": "stream",
     "text": [
      "Executing query...\n"
     ]
    },
    {
     "name": "stderr",
     "output_type": "stream",
     "text": [
      "2022-11-29 16:14:03,292 - INFO melitk.metrics.fallback : Datadog attempt: func=record_count args=('melitk.connectors.bigquery.query_success',) kwargs={'tags': {'duration': '0', 'platform': 'not_fury', 'read_engine': 'google_cloud_bigquery'}}\n"
     ]
    }
   ],
   "source": [
    "params = DEFAULT_PARAMS\n",
    "sql = query.format(**params)\n",
    "\n",
    "df_great = bigquery.run_query(sql)"
   ]
  },
  {
   "cell_type": "code",
   "execution_count": 5,
   "id": "38fc8b9a",
   "metadata": {},
   "outputs": [
    {
     "data": {
      "text/html": [
       "<div>\n",
       "<style scoped>\n",
       "    .dataframe tbody tr th:only-of-type {\n",
       "        vertical-align: middle;\n",
       "    }\n",
       "\n",
       "    .dataframe tbody tr th {\n",
       "        vertical-align: top;\n",
       "    }\n",
       "\n",
       "    .dataframe thead th {\n",
       "        text-align: right;\n",
       "    }\n",
       "</style>\n",
       "<table border=\"1\" class=\"dataframe\">\n",
       "  <thead>\n",
       "    <tr style=\"text-align: right;\">\n",
       "      <th></th>\n",
       "      <th>ds</th>\n",
       "      <th>site</th>\n",
       "      <th>campaign_id</th>\n",
       "      <th>line_item_id</th>\n",
       "      <th>creative_id</th>\n",
       "      <th>n_prints</th>\n",
       "      <th>n_clicks</th>\n",
       "    </tr>\n",
       "  </thead>\n",
       "  <tbody>\n",
       "    <tr>\n",
       "      <th>0</th>\n",
       "      <td>2022-11-28</td>\n",
       "      <td>MLA</td>\n",
       "      <td>3992</td>\n",
       "      <td>9406</td>\n",
       "      <td>8095</td>\n",
       "      <td>356248</td>\n",
       "      <td>859</td>\n",
       "    </tr>\n",
       "    <tr>\n",
       "      <th>1</th>\n",
       "      <td>2022-11-28</td>\n",
       "      <td>MLA</td>\n",
       "      <td>3991</td>\n",
       "      <td>9404</td>\n",
       "      <td>8092</td>\n",
       "      <td>350518</td>\n",
       "      <td>787</td>\n",
       "    </tr>\n",
       "    <tr>\n",
       "      <th>2</th>\n",
       "      <td>2022-11-28</td>\n",
       "      <td>MLA</td>\n",
       "      <td>3987</td>\n",
       "      <td>9352</td>\n",
       "      <td>8089</td>\n",
       "      <td>101466</td>\n",
       "      <td>190</td>\n",
       "    </tr>\n",
       "    <tr>\n",
       "      <th>3</th>\n",
       "      <td>2022-11-28</td>\n",
       "      <td>MLA</td>\n",
       "      <td>3987</td>\n",
       "      <td>9352</td>\n",
       "      <td>8088</td>\n",
       "      <td>102284</td>\n",
       "      <td>238</td>\n",
       "    </tr>\n",
       "    <tr>\n",
       "      <th>4</th>\n",
       "      <td>2022-11-28</td>\n",
       "      <td>MLA</td>\n",
       "      <td>3993</td>\n",
       "      <td>9407</td>\n",
       "      <td>8096</td>\n",
       "      <td>415230</td>\n",
       "      <td>740</td>\n",
       "    </tr>\n",
       "  </tbody>\n",
       "</table>\n",
       "</div>"
      ],
      "text/plain": [
       "           ds site  campaign_id  line_item_id  creative_id  n_prints  n_clicks\n",
       "0  2022-11-28  MLA         3992          9406         8095    356248       859\n",
       "1  2022-11-28  MLA         3991          9404         8092    350518       787\n",
       "2  2022-11-28  MLA         3987          9352         8089    101466       190\n",
       "3  2022-11-28  MLA         3987          9352         8088    102284       238\n",
       "4  2022-11-28  MLA         3993          9407         8096    415230       740"
      ]
     },
     "execution_count": 5,
     "metadata": {},
     "output_type": "execute_result"
    }
   ],
   "source": [
    "df_great.head()"
   ]
  },
  {
   "cell_type": "code",
   "execution_count": 6,
   "id": "3fd01f94",
   "metadata": {},
   "outputs": [
    {
     "data": {
      "text/plain": [
       "array(['MLA'], dtype=object)"
      ]
     },
     "execution_count": 6,
     "metadata": {},
     "output_type": "execute_result"
    }
   ],
   "source": [
    "df_great.site.unique()"
   ]
  },
  {
   "cell_type": "code",
   "execution_count": 7,
   "id": "af9e2113",
   "metadata": {},
   "outputs": [
    {
     "name": "stdout",
     "output_type": "stream",
     "text": [
      "Attempting to instantiate class from config...\n",
      "\tInstantiating as a Datasource, since class_name is Datasource\n",
      "\tSuccessfully instantiated Datasource\n",
      "\n",
      "\n",
      "ExecutionEngine class name: PandasExecutionEngine\n",
      "Data Connectors:\n",
      "\tpandas_runtime_connector:RuntimeDataConnector\n",
      "\n",
      "\tAvailable data_asset_names (0 of 0):\n",
      "\t\tNote : RuntimeDataConnector will not have data_asset_names until they are passed in through RuntimeBatchRequest\n",
      "\n",
      "\tUnmatched data_references (0 of 0): []\n",
      "\n"
     ]
    }
   ],
   "source": [
    "dq_checker = DataQuality('track','Pandas',df_great,'test')\n",
    "validator = dq_checker.get_validator()"
   ]
  },
  {
   "cell_type": "code",
   "execution_count": 8,
   "id": "310b1e03",
   "metadata": {},
   "outputs": [
    {
     "data": {
      "application/vnd.jupyter.widget-view+json": {
       "model_id": "7b733553777e4acba9ef54b1e13affbd",
       "version_major": 2,
       "version_minor": 0
      },
      "text/plain": [
       "Calculating Metrics:   0%|          | 0/7 [00:00<?, ?it/s]"
      ]
     },
     "metadata": {},
     "output_type": "display_data"
    },
    {
     "name": "stderr",
     "output_type": "stream",
     "text": [
      "2022-11-29T16:16:49-0400 - INFO: \t1 expectation(s) included in expectation_suite.  [level: INFO]\n",
      "2022-11-29 16:16:49,555 - INFO great_expectations.validator.validator : \t1 expectation(s) included in expectation_suite.\n"
     ]
    }
   ],
   "source": [
    "'''validator.expect_column_values_to_be_of_type('campaign_id','int64')\n",
    "validator.expect_column_values_to_be_of_type('line_item_id','int64')\n",
    "validator.expect_column_values_to_be_of_type('n_prints','int64')\n",
    "validator.expect_column_values_to_be_of_type('n_clicks','int64')\n",
    "validator.expect_column_distinct_values_to_be_in_set('site',['MLA'])\n",
    "validator.expect_column_values_to_be_between('n_prints',min_value= 0)\n",
    "validator.expect_column_values_to_be_between('n_clicks',min_value= 0)'''\n",
    "validator.expect_column_pair_values_A_to_be_greater_than_B('n_prints','n_clicks',or_equal=True)\n",
    "validator.save_expectation_suite()"
   ]
  },
  {
   "cell_type": "code",
   "execution_count": 9,
   "id": "8ae4736a",
   "metadata": {},
   "outputs": [
    {
     "name": "stderr",
     "output_type": "stream",
     "text": [
      "2022-11-29T16:16:49-0400 - INFO: track checkpoint is already created  [level: INFO]\n",
      "2022-11-29 16:16:49,687 - INFO app.data.utils.great_expectations_service : track checkpoint is already created\n",
      "2022-11-29T16:16:49-0400 - INFO: \t1 expectation(s) included in expectation_suite.  [level: INFO]\n",
      "2022-11-29 16:16:49,812 - INFO great_expectations.validator.validator : \t1 expectation(s) included in expectation_suite.\n"
     ]
    },
    {
     "data": {
      "application/vnd.jupyter.widget-view+json": {
       "model_id": "dfe93ec9c2a54599a57176cded766a04",
       "version_major": 2,
       "version_minor": 0
      },
      "text/plain": [
       "Calculating Metrics:   0%|          | 0/7 [00:00<?, ?it/s]"
      ]
     },
     "metadata": {},
     "output_type": "display_data"
    },
    {
     "name": "stdout",
     "output_type": "stream",
     "text": [
      "{'success': True, 'success_statistics': {'evaluated_expectations': 1, 'successful_expectations': 1, 'unsuccessful_expectations': 0, 'success_percent': 100.0}, 'expectations': [{'column_A': 'n_prints', 'expectation_type': 'expect_column_pair_values_a_to_be_greater_than_b', 'success': True, 'args': {'column_B': 'n_clicks', 'or_equal': True}, 'expectation_results': {'element_count': 8, 'unexpected_count': 0, 'unexpected_percent': 0.0, 'missing_count': 0, 'missing_percent': 0.0, 'unexpected_percent_total': 0.0, 'unexpected_percent_nonmissing': 0.0}}]}\n"
     ]
    }
   ],
   "source": [
    "result = dq_checker.validate_data()\n",
    "print(result)"
   ]
  },
  {
   "cell_type": "markdown",
   "id": "b0c9bc17",
   "metadata": {},
   "source": [
    "## Revison Bigquery"
   ]
  },
  {
   "cell_type": "code",
   "execution_count": 9,
   "id": "ab36d25b",
   "metadata": {},
   "outputs": [
    {
     "name": "stdout",
     "output_type": "stream",
     "text": [
      "Attempting to instantiate class from config...\n",
      "\tInstantiating as a Datasource, since class_name is Datasource\n",
      "\tSuccessfully instantiated Datasource\n",
      "\n",
      "\n",
      "ExecutionEngine class name: SqlAlchemyExecutionEngine\n",
      "Data Connectors:\n",
      "\tbigquery_runtime_connector:RuntimeDataConnector\n",
      "\n",
      "\tAvailable data_asset_names (0 of 0):\n",
      "\t\tNote : RuntimeDataConnector will not have data_asset_names until they are passed in through RuntimeBatchRequest\n",
      "\n",
      "\tUnmatched data_references (0 of 0): []\n",
      "\n",
      "\tdefault_inferred_data_connector_name : InferredAssetSqlDataConnector\n",
      "\n",
      "\tAvailable data_asset_names (3 of 32281):\n",
      "\t\tBIGQUERY_GOVERNANCE.BIGQUERY_COST_ATTRIBUTION (1 of 1): [{}]\n",
      "\t\tDATAMART.BT_DM_MKP_ORD_ORDER_MULTI_COUPONS_CUSTOM (1 of 1): [{}]\n",
      "\t\tDATAMART.BT_MKP_VISITS_ITEMS_CAMPAIGNS (1 of 1): [{}]\n",
      "\n",
      "\tUnmatched data_references (0 of 0):[]\n",
      "\n"
     ]
    },
    {
     "name": "stderr",
     "output_type": "stream",
     "text": [
      "2022-11-29T14:27:18-0400 - INFO: expectation_suite with name track2_expectation_suite already exists. If you would like to overwrite this expectation_suite, set overwrite_existing=True.  [level: INFO]\n",
      "2022-11-29 14:27:18,122 - INFO app.data.utils.great_expectations_service : expectation_suite with name track2_expectation_suite already exists. If you would like to overwrite this expectation_suite, set overwrite_existing=True.\n"
     ]
    }
   ],
   "source": [
    "dq_checker2 = DataQuality('track2','Bigquery',query,'test')\n",
    "validator2 = dq_checker2.get_validator()"
   ]
  },
  {
   "cell_type": "code",
   "execution_count": 10,
   "id": "3a137b96",
   "metadata": {},
   "outputs": [
    {
     "data": {
      "application/vnd.jupyter.widget-view+json": {
       "model_id": "820b3df5d36840beb6b4e245f69b472e",
       "version_major": 2,
       "version_minor": 0
      },
      "text/plain": [
       "Calculating Metrics:   0%|          | 0/1 [00:00<?, ?it/s]"
      ]
     },
     "metadata": {},
     "output_type": "display_data"
    },
    {
     "data": {
      "application/vnd.jupyter.widget-view+json": {
       "model_id": "2db1c7966bcd484bae305df89f591307",
       "version_major": 2,
       "version_minor": 0
      },
      "text/plain": [
       "Calculating Metrics:   0%|          | 0/1 [00:00<?, ?it/s]"
      ]
     },
     "metadata": {},
     "output_type": "display_data"
    },
    {
     "data": {
      "application/vnd.jupyter.widget-view+json": {
       "model_id": "8b0881ee0ec54bd78f988209a755c6b7",
       "version_major": 2,
       "version_minor": 0
      },
      "text/plain": [
       "Calculating Metrics:   0%|          | 0/1 [00:00<?, ?it/s]"
      ]
     },
     "metadata": {},
     "output_type": "display_data"
    },
    {
     "data": {
      "application/vnd.jupyter.widget-view+json": {
       "model_id": "25898613e5e6424c887413e6238672c9",
       "version_major": 2,
       "version_minor": 0
      },
      "text/plain": [
       "Calculating Metrics:   0%|          | 0/1 [00:00<?, ?it/s]"
      ]
     },
     "metadata": {},
     "output_type": "display_data"
    },
    {
     "data": {
      "application/vnd.jupyter.widget-view+json": {
       "model_id": "19bb33eeb6f24072a130a62f8a474f95",
       "version_major": 2,
       "version_minor": 0
      },
      "text/plain": [
       "Calculating Metrics:   0%|          | 0/1 [00:00<?, ?it/s]"
      ]
     },
     "metadata": {},
     "output_type": "display_data"
    },
    {
     "data": {
      "application/vnd.jupyter.widget-view+json": {
       "model_id": "30bc35d33bb74f378c392d10ccb51a87",
       "version_major": 2,
       "version_minor": 0
      },
      "text/plain": [
       "Calculating Metrics:   0%|          | 0/1 [00:00<?, ?it/s]"
      ]
     },
     "metadata": {},
     "output_type": "display_data"
    },
    {
     "name": "stderr",
     "output_type": "stream",
     "text": [
      "2022-11-29T14:27:21-0400 - INFO: \t6 expectation(s) included in expectation_suite.  [level: INFO]\n",
      "2022-11-29 14:27:21,597 - INFO great_expectations.validator.validator : \t6 expectation(s) included in expectation_suite.\n"
     ]
    }
   ],
   "source": [
    "validator2.expect_column_values_to_be_of_type('site','STRING')\n",
    "validator2.expect_column_values_to_be_of_type('campaign_id','INTEGER')\n",
    "validator2.expect_column_values_to_be_of_type('line_item_id','INTEGER')\n",
    "validator2.expect_column_values_to_be_of_type('n_prints','INTEGER')\n",
    "validator2.expect_column_values_to_be_of_type('n_clicks','INTEGER')\n",
    "validator2.expect_column_values_to_be_of_type('days','INTEGER')\n",
    "#validator2.expect_column_distinct_values_to_be_in_set('site',['MLA'])\n",
    "#validator2.expect_column_pair_values_A_to_be_greater_than_B('n_prints','n_clicks',or_equal=True)\n",
    "validator2.save_expectation_suite()"
   ]
  },
  {
   "cell_type": "code",
   "execution_count": 11,
   "id": "3ee8afca",
   "metadata": {},
   "outputs": [
    {
     "name": "stderr",
     "output_type": "stream",
     "text": [
      "2022-11-29T14:27:21-0400 - INFO: track2 checkpoint is already created  [level: INFO]\n",
      "2022-11-29 14:27:21,701 - INFO app.data.utils.great_expectations_service : track2 checkpoint is already created\n",
      "2022-11-29T14:27:24-0400 - INFO: \t6 expectation(s) included in expectation_suite.  [level: INFO]\n",
      "2022-11-29 14:27:24,001 - INFO great_expectations.validator.validator : \t6 expectation(s) included in expectation_suite.\n"
     ]
    },
    {
     "data": {
      "application/vnd.jupyter.widget-view+json": {
       "model_id": "fe4300a96cf4419095ef345757e7cbe9",
       "version_major": 2,
       "version_minor": 0
      },
      "text/plain": [
       "Calculating Metrics:   0%|          | 0/1 [00:00<?, ?it/s]"
      ]
     },
     "metadata": {},
     "output_type": "display_data"
    },
    {
     "name": "stdout",
     "output_type": "stream",
     "text": [
      "{'success': True, 'success_statistics': {'evaluated_expectations': 6, 'successful_expectations': 6, 'unsuccessful_expectations': 0, 'success_percent': 100.0}, 'expectations': [{'column': 'site', 'expectation_type': 'expect_column_values_to_be_of_type', 'success': True, 'args': {'type_': 'STRING'}, 'expectation_results': {'observed_value': 'String'}}, {'column': 'campaign_id', 'expectation_type': 'expect_column_values_to_be_of_type', 'success': True, 'args': {'type_': 'INTEGER'}, 'expectation_results': {'observed_value': 'Integer'}}, {'column': 'line_item_id', 'expectation_type': 'expect_column_values_to_be_of_type', 'success': True, 'args': {'type_': 'INTEGER'}, 'expectation_results': {'observed_value': 'Integer'}}, {'column': 'n_prints', 'expectation_type': 'expect_column_values_to_be_of_type', 'success': True, 'args': {'type_': 'INTEGER'}, 'expectation_results': {'observed_value': 'Integer'}}, {'column': 'n_clicks', 'expectation_type': 'expect_column_values_to_be_of_type', 'success': True, 'args': {'type_': 'INTEGER'}, 'expectation_results': {'observed_value': 'Integer'}}, {'column': 'days', 'expectation_type': 'expect_column_values_to_be_of_type', 'success': True, 'args': {'type_': 'INTEGER'}, 'expectation_results': {'observed_value': 'Integer'}}]}\n"
     ]
    }
   ],
   "source": [
    "result = dq_checker2.validate_data()\n",
    "print(result)"
   ]
  }
 ],
 "metadata": {
  "kernelspec": {
   "display_name": "Python 3 (ipykernel)",
   "language": "python",
   "name": "python3"
  },
  "language_info": {
   "codemirror_mode": {
    "name": "ipython",
    "version": 3
   },
   "file_extension": ".py",
   "mimetype": "text/x-python",
   "name": "python",
   "nbconvert_exporter": "python",
   "pygments_lexer": "ipython3",
   "version": "3.7.4"
  }
 },
 "nbformat": 4,
 "nbformat_minor": 5
}
