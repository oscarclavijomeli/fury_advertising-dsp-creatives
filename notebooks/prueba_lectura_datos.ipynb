{
 "cells": [
  {
   "cell_type": "code",
   "execution_count": null,
   "id": "06b21912",
   "metadata": {},
   "outputs": [],
   "source": [
    "!pip install --upgrade pip\n",
    "!pip3 install pandas==1.3.4 --upgrade\n",
    "!pip install matplotlib\n",
    "!pip install --index-url https://pypi.artifacts.furycloud.io/simple/ \"melitk.connectors[\"presto\"]\"\n",
    "!pip install --index-url https://pypi.artifacts.furycloud.io/simple/ \"melitk.connectors[\"sparksql\"]\""
   ]
  },
  {
   "cell_type": "code",
   "execution_count": null,
   "id": "868f8362",
   "metadata": {},
   "outputs": [],
   "source": [
    "import pandas as pd\n",
    "import getpass\n",
    "from melitk.connectors import Presto, SparkSQL\n",
    "from melitk.melipass import get_secret\n",
    "from getpass import getpass"
   ]
  },
  {
   "cell_type": "code",
   "execution_count": null,
   "id": "9ea86f45",
   "metadata": {},
   "outputs": [],
   "source": [
    "melidata_user = \"niacevedo\"\n",
    "melidata_pass = getpass()"
   ]
  },
  {
   "cell_type": "code",
   "execution_count": null,
   "id": "a99d958b",
   "metadata": {},
   "outputs": [],
   "source": [
    "presto = SparkSQL(user=melidata_user, password=melidata_pass)\n",
    "\n",
    "def run_query(query):\n",
    "    return pd.DataFrame(presto.execute_response(query))\n",
    "\n",
    "query = \"\"\"\n",
    "SELECT *\n",
    "FROM advertising.adv_lake_raw\n",
    "WHERE ds >= '2022-10-31 00'\n",
    "    AND ds < '2022-10-31 01'\n",
    "    AND site = 'MLA'\n",
    "    and event = 'display_attribution_orders'\n",
    "limit 10\n",
    "\"\"\"\n",
    "\n",
    "df = pd.DataFrame(presto.execute_response(query))\n",
    "df"
   ]
  },
  {
   "cell_type": "code",
   "execution_count": null,
   "id": "2b4415cd",
   "metadata": {},
   "outputs": [],
   "source": []
  }
 ],
 "metadata": {
  "kernelspec": {
   "display_name": "Python 3 (ipykernel)",
   "language": "python",
   "name": "python3"
  },
  "language_info": {
   "codemirror_mode": {
    "name": "ipython",
    "version": 3
   },
   "file_extension": ".py",
   "mimetype": "text/x-python",
   "name": "python",
   "nbconvert_exporter": "python",
   "pygments_lexer": "ipython3",
   "version": "3.7.4"
  }
 },
 "nbformat": 4,
 "nbformat_minor": 5
}
