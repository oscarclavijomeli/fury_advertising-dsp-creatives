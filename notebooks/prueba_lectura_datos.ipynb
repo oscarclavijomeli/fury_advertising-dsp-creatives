{
 "cells": [
  {
   "cell_type": "code",
   "execution_count": null,
   "id": "4c68fb4b",
   "metadata": {},
   "outputs": [],
   "source": [
    "!pip install --upgrade pip\n",
    "!pip3 install pandas==1.3.4 --upgrade\n",
    "!pip install matplotlib\n",
    "!pip install --index-url https://pypi.artifacts.furycloud.io/simple/ \"melitk.connectors[\"presto\"]\"\n",
    "!pip install --index-url https://pypi.artifacts.furycloud.io/simple/ \"melitk.connectors[\"sparksql\"]\""
   ]
  },
  {
   "cell_type": "code",
   "execution_count": null,
   "id": "d70e9d16",
   "metadata": {},
   "outputs": [],
   "source": [
    "import pandas as pd\n",
    "import getpass\n",
    "from melitk.connectors import Presto, SparkSQL\n",
    "from melitk.melipass import get_secret\n",
    "from getpass import getpass"
   ]
  },
  {
   "cell_type": "code",
   "execution_count": null,
   "id": "ea4b4c3d",
   "metadata": {},
   "outputs": [],
   "source": [
    "melidata_user = \"niacevedo\"\n",
    "melidata_pass = getpass()"
   ]
  },
  {
   "cell_type": "code",
   "execution_count": null,
   "id": "8502806d",
   "metadata": {},
   "outputs": [],
   "source": [
    "presto = SparkSQL(user=melidata_user, password=melidata_pass)\n",
    "\n",
    "def run_query(query):\n",
    "    return pd.DataFrame(presto.execute_response(query))\n",
    "\n",
    "query = \"\"\"\n",
    "SELECT *, SUBSTRING(ds, 1, 10) AS `cday`,\n",
    "    SUBSTRING(get_json_object(event_data, '$.line_item_id'), 1, 4) AS line_item_id,\n",
    "    get_json_object(event_data, '$.creative_id') as creative_id\n",
    "FROM advertising.adv_lake_raw\n",
    "WHERE ds >= '2022-10-20 19'\n",
    "    AND ds < '2022-10-20 20'\n",
    "    AND site = 'MLA'\n",
    "    and event = 'display_prints'\n",
    "    AND SUBSTRING(get_json_object(event_data, '$.line_item_id'), 1, 4) = '3669'\n",
    "\"\"\"\n",
    "\n",
    "df = pd.DataFrame(presto.execute_response(query))\n",
    "df.head()"
   ]
  },
  {
   "cell_type": "code",
   "execution_count": null,
   "id": "13880153",
   "metadata": {},
   "outputs": [],
   "source": [
    "with open('x.txt', 'w') as file:\n",
    "    file.write(f\"{df[df['line_item_id'] == '3669']['creative_id'].unique()}\")"
   ]
  },
  {
   "cell_type": "code",
   "execution_count": null,
   "id": "b8edf662",
   "metadata": {},
   "outputs": [],
   "source": []
  }
 ],
 "metadata": {
  "kernelspec": {
   "display_name": "Python 3 (ipykernel)",
   "language": "python",
   "name": "python3"
  },
  "language_info": {
   "codemirror_mode": {
    "name": "ipython",
    "version": 3
   },
   "file_extension": ".py",
   "mimetype": "text/x-python",
   "name": "python",
   "nbconvert_exporter": "python",
   "pygments_lexer": "ipython3",
   "version": "3.7.4"
  }
 },
 "nbformat": 4,
 "nbformat_minor": 5
}
