{
 "cells": [
  {
   "cell_type": "code",
   "execution_count": null,
   "id": "cca847e8",
   "metadata": {},
   "outputs": [],
   "source": [
    "from app.data.creatives.utils.spark_extractor import SparkExtractor\n",
    "from app.conf.settings import DEFAULT_PARAMS, ARTIFACT_NAME, LAST_DATE_STR, COLUMNS_TO_INT, COLUMNS_TO_DROP_DUPLICATES\n",
    "from datetime import date, timedelta"
   ]
  },
  {
   "cell_type": "code",
   "execution_count": null,
   "id": "cb250fbe",
   "metadata": {},
   "outputs": [],
   "source": [
    "spark_extractor = SparkExtractor(artifact_name=ARTIFACT_NAME)"
   ]
  },
  {
   "cell_type": "code",
   "execution_count": null,
   "id": "afbfe595",
   "metadata": {},
   "outputs": [],
   "source": [
    "query_path = '../src/app/data/creatives/queries/performance_per_hour.sql'\n",
    "last_date_str = \"2022-11-14\"  #(date.today() - timedelta(days=1)).strftime(\"%Y-%m-%d\")\n",
    "spark_extractor.update(query_path, DEFAULT_PARAMS, last_day_str=last_date_str)"
   ]
  },
  {
   "cell_type": "code",
   "execution_count": null,
   "id": "2bb48133",
   "metadata": {},
   "outputs": [],
   "source": [
    "spark_extractor.preprocess(columns_to_int=COLUMNS_TO_INT, columns_to_drop_duplicates=COLUMNS_TO_DROP_DUPLICATES)"
   ]
  },
  {
   "cell_type": "code",
   "execution_count": null,
   "id": "fe530542",
   "metadata": {},
   "outputs": [],
   "source": [
    "spark_extractor.save()"
   ]
  },
  {
   "cell_type": "code",
   "execution_count": null,
   "id": "1840c4b5",
   "metadata": {},
   "outputs": [],
   "source": []
  }
 ],
 "metadata": {
  "kernelspec": {
   "display_name": "Python 3 (ipykernel)",
   "language": "python",
   "name": "python3"
  },
  "language_info": {
   "codemirror_mode": {
    "name": "ipython",
    "version": 3
   },
   "file_extension": ".py",
   "mimetype": "text/x-python",
   "name": "python",
   "nbconvert_exporter": "python",
   "pygments_lexer": "ipython3",
   "version": "3.7.4"
  }
 },
 "nbformat": 4,
 "nbformat_minor": 5
}
