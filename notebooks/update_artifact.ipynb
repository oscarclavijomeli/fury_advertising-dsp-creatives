{
 "cells": [
  {
   "cell_type": "code",
   "execution_count": null,
   "id": "9e66d97d",
   "metadata": {},
   "outputs": [],
   "source": [
    "from app.data.creatives.utils.spark_extractor import SparkExtractor\n",
    "from app.conf.settings import DEFAULT_PARAMS\n",
    "from datetime import date, timedelta"
   ]
  },
  {
   "cell_type": "code",
   "execution_count": null,
   "id": "5424fa4f",
   "metadata": {},
   "outputs": [],
   "source": [
    "artifact_name = 'clicks_displays_per_day'\n",
    "spark_extractor = SparkExtractor(artifact_name=artifact_name)"
   ]
  },
  {
   "cell_type": "code",
   "execution_count": null,
   "id": "5b3d1ea6",
   "metadata": {},
   "outputs": [],
   "source": [
    "query_path = '../src/app/data/creatives/queries/performance_per_hour.sql'\n",
    "spark_extractor.update(query_path, DEFAULT_PARAMS, day_str=(date.today() - timedelta(days=1)).strftime(\"%Y-%m-%d\"))"
   ]
  },
  {
   "cell_type": "code",
   "execution_count": null,
   "id": "e6cc7741",
   "metadata": {},
   "outputs": [],
   "source": [
    "columns = ['campaign_id', 'line_item_id', 'creative_id']\n",
    "spark_extractor.preprocess(columns)"
   ]
  },
  {
   "cell_type": "code",
   "execution_count": null,
   "id": "5a24d6e4",
   "metadata": {},
   "outputs": [],
   "source": [
    "spark_extractor.save()"
   ]
  }
 ],
 "metadata": {
  "kernelspec": {
   "display_name": "Python 3 (ipykernel)",
   "language": "python",
   "name": "python3"
  },
  "language_info": {
   "codemirror_mode": {
    "name": "ipython",
    "version": 3
   },
   "file_extension": ".py",
   "mimetype": "text/x-python",
   "name": "python",
   "nbconvert_exporter": "python",
   "pygments_lexer": "ipython3",
   "version": "3.7.4"
  }
 },
 "nbformat": 4,
 "nbformat_minor": 5
}
