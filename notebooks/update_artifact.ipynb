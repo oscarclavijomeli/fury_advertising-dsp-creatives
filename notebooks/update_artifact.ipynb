{
 "cells": [
  {
   "cell_type": "code",
   "execution_count": null,
   "id": "5cee9b9b",
   "metadata": {},
   "outputs": [],
   "source": [
    "from app.data.creatives.utils.spark_extractor import SparkExtractor\n",
    "from app.conf.settings import DEFAULT_PARAMS, ARTIFACT_NAME, DATE_STR, COLUMNS\n",
    "from datetime import date, timedelta"
   ]
  },
  {
   "cell_type": "code",
   "execution_count": null,
   "id": "0c61ef93",
   "metadata": {},
   "outputs": [],
   "source": [
    "spark_extractor = SparkExtractor(artifact_name=ARTIFACT_NAME)"
   ]
  },
  {
   "cell_type": "code",
   "execution_count": null,
   "id": "e99cf2ce",
   "metadata": {},
   "outputs": [],
   "source": [
    "query_path = '../src/app/data/creatives/queries/performance_per_hour.sql'\n",
    "date_str = \"2022-11-07\"  #(date.today() - timedelta(days=1)).strftime(\"%Y-%m-%d\")\n",
    "spark_extractor.update(query_path, DEFAULT_PARAMS, day_str=date_str)"
   ]
  },
  {
   "cell_type": "code",
   "execution_count": null,
   "id": "dd80e723",
   "metadata": {},
   "outputs": [],
   "source": [
    "spark_extractor.preprocess(COLUMNS)"
   ]
  },
  {
   "cell_type": "code",
   "execution_count": null,
   "id": "0966c58c",
   "metadata": {},
   "outputs": [],
   "source": [
    "spark_extractor.save()"
   ]
  },
  {
   "cell_type": "code",
   "execution_count": null,
   "id": "7a78cebf",
   "metadata": {},
   "outputs": [],
   "source": []
  }
 ],
 "metadata": {
  "kernelspec": {
   "display_name": "Python 3 (ipykernel)",
   "language": "python",
   "name": "python3"
  },
  "language_info": {
   "codemirror_mode": {
    "name": "ipython",
    "version": 3
   },
   "file_extension": ".py",
   "mimetype": "text/x-python",
   "name": "python",
   "nbconvert_exporter": "python",
   "pygments_lexer": "ipython3",
   "version": "3.7.4"
  }
 },
 "nbformat": 4,
 "nbformat_minor": 5
}
