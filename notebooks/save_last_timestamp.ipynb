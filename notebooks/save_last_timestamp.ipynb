{
 "cells": [
  {
   "cell_type": "code",
   "execution_count": null,
   "id": "b2bf70bd",
   "metadata": {},
   "outputs": [],
   "source": [
    "from datetime import date, timedelta\n",
    "import pytz\n",
    "\n",
    "import pandas as pd\n",
    "\n",
    "from app.data.utils.bigquery import BigQuery\n",
    "\n",
    "bq = BigQuery()"
   ]
  },
  {
   "cell_type": "code",
   "execution_count": null,
   "id": "e8722f0e",
   "metadata": {},
   "outputs": [],
   "source": [
    "yesterday = date.today() - timedelta(days=1)\n",
    "last_datetime = datetime(yesterday.year, yesterday.month, yesterday.day, 23, 59, 59, 999999)"
   ]
  },
  {
   "cell_type": "code",
   "execution_count": null,
   "id": "39885709",
   "metadata": {},
   "outputs": [],
   "source": [
    "def format_timestamp(timestamp):\n",
    "    string = last_datetime.strftime('%Y-%m-%dT%H:%M:%S.%f')[:-3] + '-0400'\n",
    "    return string\n",
    "\n",
    "last_datetime_string = format_timestamp(last_datetime)"
   ]
  },
  {
   "cell_type": "code",
   "execution_count": null,
   "id": "6a5f0d7a",
   "metadata": {},
   "outputs": [],
   "source": [
    "last_timestamp_dataframe = pd.DataFrame({\n",
    "    'site': 'MLA',\n",
    "    'ds': last_datetime.date(),\n",
    "    'LAST_TIMESTAMP_EXECUTION': [last_datetime_string]\n",
    "})"
   ]
  },
  {
   "cell_type": "code",
   "execution_count": null,
   "id": "9d290ac8",
   "metadata": {},
   "outputs": [],
   "source": [
    "sql = '''\n",
    "DROP TABLE meli-bi-data.SBOX_DSPCREATIVOS.BETA_ESTIMATION_TIMESTAMP_EXECUTIONS;\n",
    "CREATE TABLE meli-bi-data.SBOX_DSPCREATIVOS.BETA_ESTIMATION_TIMESTAMP_EXECUTIONS\n",
    "(site STRING, ds DATE, LAST_TIMESTAMP_EXECUTION STRING)\n",
    "PARTITION BY ds\n",
    "CLUSTER BY site\n",
    ";\n",
    "'''\n",
    "\n",
    "bq.run_query(sql)"
   ]
  },
  {
   "cell_type": "code",
   "execution_count": null,
   "id": "44c895be",
   "metadata": {},
   "outputs": [],
   "source": [
    "sql = '''\n",
    "DELETE FROM meli-bi-data.SBOX_DSPCREATIVOS.BETA_ESTIMATION_TIMESTAMP_EXECUTIONS WHERE 1=1\n",
    ";\n",
    "'''\n",
    "\n",
    "bq.run_query(sql)"
   ]
  },
  {
   "cell_type": "code",
   "execution_count": null,
   "id": "0fd2e21a",
   "metadata": {},
   "outputs": [],
   "source": [
    "bq.database.client.load_table_from_dataframe(\n",
    "    last_timestamp_dataframe,\n",
    "    'meli-bi-data.SBOX_DSPCREATIVOS.BETA_ESTIMATION_TIMESTAMP_EXECUTIONS'\n",
    ")"
   ]
  },
  {
   "cell_type": "code",
   "execution_count": null,
   "id": "6b2ae53c",
   "metadata": {},
   "outputs": [],
   "source": []
  }
 ],
 "metadata": {
  "kernelspec": {
   "display_name": "Python 3 (ipykernel)",
   "language": "python",
   "name": "python3"
  },
  "language_info": {
   "codemirror_mode": {
    "name": "ipython",
    "version": 3
   },
   "file_extension": ".py",
   "mimetype": "text/x-python",
   "name": "python",
   "nbconvert_exporter": "python",
   "pygments_lexer": "ipython3",
   "version": "3.7.4"
  }
 },
 "nbformat": 4,
 "nbformat_minor": 5
}
