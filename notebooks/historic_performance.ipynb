{
 "cells": [
  {
   "cell_type": "code",
   "execution_count": null,
   "id": "c6739959",
   "metadata": {},
   "outputs": [],
   "source": [
    "import pickle\n",
    "\n",
    "import pandas as pd\n",
    "from getpass import getpass\n",
    "\n",
    "from melitk.fda2 import inventory\n",
    "\n",
    "from app.data.utils.sparksql import SparkSQL\n",
    "from app.data.utils.load_query import load_format\n",
    "from app.conf.settings import DEFAULT_PARAMS"
   ]
  },
  {
   "cell_type": "markdown",
   "id": "5a198ed5",
   "metadata": {},
   "source": [
    "# Access to the databases"
   ]
  },
  {
   "cell_type": "code",
   "execution_count": null,
   "id": "9365ca22",
   "metadata": {},
   "outputs": [],
   "source": [
    "melidata_user = \"niacevedo\"\n",
    "melidata_pass = getpass()\n",
    "spark = SparkSQL(user=melidata_user, password=melidata_pass)"
   ]
  },
  {
   "cell_type": "markdown",
   "id": "7f966f0a",
   "metadata": {},
   "source": [
    "# Data"
   ]
  },
  {
   "cell_type": "markdown",
   "id": "b4cb2f43",
   "metadata": {},
   "source": [
    "## Read"
   ]
  },
  {
   "cell_type": "code",
   "execution_count": null,
   "id": "19dc78ad",
   "metadata": {},
   "outputs": [],
   "source": [
    "month = '01'\n",
    "day = '01'\n",
    "\n",
    "query = f\"\"\"\n",
    "SELECT COUNT(*) AS `N`\n",
    "FROM advertising.adv_lake_raw\n",
    "WHERE ds >= \"2022-{month}-{day} 00\" AND ds < \"2022-{month}-{day} 01\"\n",
    "    AND `site` = 'MLA'\n",
    "    AND `event` = 'display_prints'\n",
    "    AND (\n",
    "        LOWER(`device`.user_agent) NOT RLIKE '.*(libwww|wget|lwp|damnBot|bbbike|java|spider|crawl|slurp|bot|feedburner|googleimageproxy|google web preview).*'\n",
    "    )\n",
    "\"\"\"\n",
    "df = spark.run_query(query)"
   ]
  },
  {
   "cell_type": "code",
   "execution_count": null,
   "id": "9e85b0b4",
   "metadata": {},
   "outputs": [],
   "source": [
    "df"
   ]
  },
  {
   "cell_type": "code",
   "execution_count": null,
   "id": "4933b89f",
   "metadata": {},
   "outputs": [],
   "source": [
    "filename = '../src/app/data/creatives_performance/performance.sql'\n",
    "query = load_format(filename, DEFAULT_PARAMS)"
   ]
  },
  {
   "cell_type": "code",
   "execution_count": null,
   "id": "82b7273f",
   "metadata": {},
   "outputs": [],
   "source": [
    "df = spark.run_query(query)\n",
    "df.head()"
   ]
  },
  {
   "cell_type": "code",
   "execution_count": null,
   "id": "cf119190",
   "metadata": {},
   "outputs": [],
   "source": [
    "df.shape"
   ]
  },
  {
   "cell_type": "code",
   "execution_count": null,
   "id": "96105448",
   "metadata": {},
   "outputs": [],
   "source": [
    "df.sort_values(['cday', 'campaign_id', 'line_item_id', 'creative_id'], inplace = True)"
   ]
  },
  {
   "cell_type": "markdown",
   "id": "1a1bcdcb",
   "metadata": {},
   "source": [
    "## Processing"
   ]
  },
  {
   "cell_type": "code",
   "execution_count": null,
   "id": "8f350253",
   "metadata": {},
   "outputs": [],
   "source": [
    "df = df[~pd.isnull(df['campaign_id'])]\n",
    "df = df[~pd.isnull(df['line_item_id'])]\n",
    "df = df[~pd.isnull(df['creative_id'])]"
   ]
  },
  {
   "cell_type": "markdown",
   "id": "322ba5e6",
   "metadata": {},
   "source": [
    "## Save"
   ]
  },
  {
   "cell_type": "code",
   "execution_count": null,
   "id": "4d20ee00",
   "metadata": {},
   "outputs": [],
   "source": [
    "my_fury_new_token = 'dbe8df67db389e3155d6be40068da69e72413bb746d23bffe74762eb0fb2953b'\n",
    "inventory.init(token = my_fury_new_token)"
   ]
  },
  {
   "cell_type": "code",
   "execution_count": null,
   "id": "0cccd610",
   "metadata": {},
   "outputs": [],
   "source": [
    "# serialize\n",
    "data_bytes = pickle.dumps(df)\n",
    "\n",
    "# Create fda artifact\n",
    "artifact_name = 'clicks_prints_per_day'\n",
    "version = '1.0.0'\n",
    "artifact = inventory.create_artifact(artifact_name, version = version, type_ = 'fda.Bytes')\n",
    "artifact.save_from_bytes(data = data_bytes)"
   ]
  },
  {
   "cell_type": "code",
   "execution_count": null,
   "id": "c0444883",
   "metadata": {},
   "outputs": [],
   "source": []
  }
 ],
 "metadata": {
  "kernelspec": {
   "display_name": "Python 3 (ipykernel)",
   "language": "python",
   "name": "python3"
  },
  "language_info": {
   "codemirror_mode": {
    "name": "ipython",
    "version": 3
   },
   "file_extension": ".py",
   "mimetype": "text/x-python",
   "name": "python",
   "nbconvert_exporter": "python",
   "pygments_lexer": "ipython3",
   "version": "3.7.4"
  }
 },
 "nbformat": 4,
 "nbformat_minor": 5
}
