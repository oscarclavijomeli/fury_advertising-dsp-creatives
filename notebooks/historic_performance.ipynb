{
 "cells": [
  {
   "cell_type": "code",
   "execution_count": 5,
   "id": "9a8f6ee9",
   "metadata": {},
   "outputs": [],
   "source": [
    "import os\n",
    "import pickle\n",
    "from datetime import date, timedelta\n",
    "import importlib\n",
    "\n",
    "from retry import retry\n",
    "import pandas as pd\n",
    "from getpass import getpass\n",
    "\n",
    "from melitk.fda2 import inventory\n",
    "\n",
    "from app.data.utils.sparksql import SparkSQL\n",
    "from app.data.utils.load_query import load_format\n",
    "from app.conf.settings import DEFAULT_PARAMS"
   ]
  },
  {
   "cell_type": "markdown",
   "id": "8d82c4e2",
   "metadata": {},
   "source": [
    "# Access to the databases"
   ]
  },
  {
   "cell_type": "code",
   "execution_count": null,
   "id": "2426bceb",
   "metadata": {},
   "outputs": [],
   "source": [
    "melidata_user = \"\"\n",
    "melidata_pass = getpass()\n",
    "spark = SparkSQL(user=melidata_user, password=melidata_pass)"
   ]
  },
  {
   "cell_type": "markdown",
   "id": "cb12d5f4",
   "metadata": {},
   "source": [
    "# Data"
   ]
  },
  {
   "cell_type": "markdown",
   "id": "5a57929e",
   "metadata": {},
   "source": [
    "## Read"
   ]
  },
  {
   "cell_type": "code",
   "execution_count": null,
   "id": "6684ad79",
   "metadata": {},
   "outputs": [],
   "source": [
    "@retry(EOFError, tries = 5, delay = 60, backoff = 2)\n",
    "def run_query(query):\n",
    "    return spark.run_query(query)"
   ]
  },
  {
   "cell_type": "code",
   "execution_count": null,
   "id": "ded049fd",
   "metadata": {},
   "outputs": [],
   "source": [
    "logs_path = 'logs.txt'"
   ]
  },
  {
   "cell_type": "code",
   "execution_count": null,
   "id": "0080ff88",
   "metadata": {},
   "outputs": [],
   "source": [
    "#if os.path.exists(logs_path):\n",
    "#    os.remove(logs_path)"
   ]
  },
  {
   "cell_type": "code",
   "execution_count": null,
   "id": "c9542a0d",
   "metadata": {},
   "outputs": [],
   "source": [
    "#df = pd.DataFrame()\n",
    "params = DEFAULT_PARAMS.copy()\n",
    "filename = '../src/app/data/creatives/queries/performance_per_hour.sql'\n",
    "date_start = str2date(DEFAULT_PARAMS['start_date'])\n",
    "date_end = str2date(DEFAULT_PARAMS['end_date'])"
   ]
  },
  {
   "cell_type": "code",
   "execution_count": null,
   "id": "8c1a7144",
   "metadata": {},
   "outputs": [],
   "source": [
    "dates = []\n",
    "date_iter = date_start\n",
    "while date_iter < date_end:\n",
    "    for i in range(0, 24):\n",
    "        dates.append(f\"{date2str(date_iter)} {i:02d}\")\n",
    "    date_iter += timedelta(days=1)\n",
    "dates = [f\"{date2str(date_end)} 00\"] + dates[::-1]"
   ]
  },
  {
   "cell_type": "code",
   "execution_count": null,
   "id": "fc3c3474",
   "metadata": {},
   "outputs": [],
   "source": [
    "with open(logs_path, 'r') as file:\n",
    "    temp = file.readlines()\n",
    "    temp = [x.replace('\\n', '') for x in temp]"
   ]
  },
  {
   "cell_type": "code",
   "execution_count": null,
   "id": "63dfc34d",
   "metadata": {},
   "outputs": [],
   "source": [
    "dates = [x for x in dates if x not in temp]"
   ]
  },
  {
   "cell_type": "code",
   "execution_count": null,
   "id": "feda781e",
   "metadata": {},
   "outputs": [],
   "source": [
    "dates.pop(0)"
   ]
  },
  {
   "cell_type": "code",
   "execution_count": null,
   "id": "b3f32ab7",
   "metadata": {},
   "outputs": [],
   "source": [
    "dates = [temp[-1]] + dates"
   ]
  },
  {
   "cell_type": "code",
   "execution_count": null,
   "id": "6e70d633",
   "metadata": {},
   "outputs": [],
   "source": [
    "dates[:5]"
   ]
  },
  {
   "cell_type": "code",
   "execution_count": null,
   "id": "18cf75a4",
   "metadata": {},
   "outputs": [],
   "source": [
    "for i in range(1, len(dates) + 1):\n",
    "    params.update({'start_date': dates[i], 'end_date': dates[i - 1]})\n",
    "    query = load_format(filename, params)\n",
    "    df_temp = run_query(query)\n",
    "    df = pd.concat([df, df_temp])\n",
    "    with open(logs_path, 'a') as file:\n",
    "        file.write(dates[i] + '\\n')"
   ]
  },
  {
   "cell_type": "code",
   "execution_count": null,
   "id": "e620c0a3",
   "metadata": {},
   "outputs": [],
   "source": [
    "df.sort_values(['cday', 'chour', 'content_source', 'campaign_id', 'line_item_id', 'creative_id'], inplace = True)"
   ]
  },
  {
   "cell_type": "markdown",
   "id": "5567d8c0",
   "metadata": {},
   "source": [
    "## Processing"
   ]
  },
  {
   "cell_type": "code",
   "execution_count": null,
   "id": "e89d822c",
   "metadata": {},
   "outputs": [],
   "source": [
    "df = df[~pd.isnull(df['campaign_id'])]\n",
    "df = df[~pd.isnull(df['line_item_id'])]\n",
    "df = df[~pd.isnull(df['creative_id'])]"
   ]
  },
  {
   "cell_type": "code",
   "execution_count": null,
   "id": "5f06a037",
   "metadata": {},
   "outputs": [],
   "source": [
    "df['campaign_id'] = df['campaign_id'].astype(int)\n",
    "df['line_item_id'] = df['line_item_id'].astype(int)\n",
    "df['creative_id'] = df['creative_id'].astype(int)\n",
    "#df['creative_id'] = df['creative_id'].map(lambda x: str(x)[:4]).astype(int)"
   ]
  },
  {
   "cell_type": "code",
   "execution_count": null,
   "id": "f8b3c901",
   "metadata": {},
   "outputs": [],
   "source": [
    "df.shape"
   ]
  },
  {
   "cell_type": "markdown",
   "id": "8fa71c7b",
   "metadata": {},
   "source": [
    "## Correct"
   ]
  },
  {
   "cell_type": "code",
   "execution_count": null,
   "id": "e3296e87",
   "metadata": {},
   "outputs": [],
   "source": [
    "my_fury_new_token = \"\"\n",
    "inventory.init(token = f\"Bearer {my_fury_new_token}\")"
   ]
  },
  {
   "cell_type": "code",
   "execution_count": null,
   "id": "fce7bcd4",
   "metadata": {},
   "outputs": [],
   "source": [
    "artifact_id = 'f3de9ae8-ea64-4ed1-aae3-e3116575202c'\n",
    "df_bytes = inventory.get(artifact_id = artifact_id).load_to_bytes()\n",
    "df = pickle.loads(df_bytes)"
   ]
  },
  {
   "cell_type": "code",
   "execution_count": null,
   "id": "7c8da532",
   "metadata": {},
   "outputs": [],
   "source": [
    "df.head()"
   ]
  },
  {
   "cell_type": "code",
   "execution_count": null,
   "id": "7fe0c335",
   "metadata": {},
   "outputs": [],
   "source": [
    "weird_case = df[df['line_item_id']==3669]['creative_id'].max()"
   ]
  },
  {
   "cell_type": "code",
   "execution_count": null,
   "id": "f6f70580",
   "metadata": {},
   "outputs": [],
   "source": [
    "df[df['creative_id'] == weird_case]"
   ]
  },
  {
   "cell_type": "code",
   "execution_count": null,
   "id": "fc23ef68",
   "metadata": {},
   "outputs": [],
   "source": [
    "df['campaign_id'] = df['campaign_id'].astype(int)\n",
    "df['line_item_id'] = df['line_item_id'].astype(int)\n",
    "df['creative_id'] = df['creative_id'].map(lambda x: str(x)[:4]).astype(int)"
   ]
  },
  {
   "cell_type": "code",
   "execution_count": null,
   "id": "aea9e2a8",
   "metadata": {},
   "outputs": [],
   "source": [
    "columns = ['cday', 'chour', 'content_source', 'campaign_id', 'line_item_id', 'creative_id']\n",
    "df = df.groupby(columns).sum().reset_index()"
   ]
  },
  {
   "cell_type": "code",
   "execution_count": null,
   "id": "3114edc9",
   "metadata": {},
   "outputs": [],
   "source": [
    "df.shape"
   ]
  },
  {
   "cell_type": "markdown",
   "id": "e1806e72",
   "metadata": {},
   "source": [
    "## Save"
   ]
  },
  {
   "cell_type": "code",
   "execution_count": null,
   "id": "0e20c909",
   "metadata": {},
   "outputs": [],
   "source": [
    "df.to_csv('data.csv', index = False)"
   ]
  },
  {
   "cell_type": "code",
   "execution_count": null,
   "id": "af1f4cad",
   "metadata": {},
   "outputs": [],
   "source": [
    "df = pd.read_csv('data.csv', low_memory = False)"
   ]
  },
  {
   "cell_type": "code",
   "execution_count": null,
   "id": "46c68beb",
   "metadata": {},
   "outputs": [],
   "source": [
    "my_fury_new_token = \"\"\n",
    "inventory.init(token = f\"Bearer {my_fury_new_token}\")"
   ]
  },
  {
   "cell_type": "code",
   "execution_count": null,
   "id": "b897065c",
   "metadata": {},
   "outputs": [],
   "source": [
    "# serialize\n",
    "data_bytes = pickle.dumps(df)\n",
    "\n",
    "# Create fda artifact\n",
    "artifact_name = 'clicks_displays_per_day'\n",
    "version = '1.0.5'\n",
    "artifact = inventory.create_artifact(artifact_name, version = version, type_ = 'fda.Bytes')\n",
    "artifact.save_from_bytes(data = data_bytes)"
   ]
  }
 ],
 "metadata": {
  "kernelspec": {
   "display_name": "Python 3 (ipykernel)",
   "language": "python",
   "name": "python3"
  },
  "language_info": {
   "codemirror_mode": {
    "name": "ipython",
    "version": 3
   },
   "file_extension": ".py",
   "mimetype": "text/x-python",
   "name": "python",
   "nbconvert_exporter": "python",
   "pygments_lexer": "ipython3",
   "version": "3.7.4"
  }
 },
 "nbformat": 4,
 "nbformat_minor": 5
}
