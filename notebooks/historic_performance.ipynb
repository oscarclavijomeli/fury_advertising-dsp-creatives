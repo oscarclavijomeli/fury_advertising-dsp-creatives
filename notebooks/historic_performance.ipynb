{
 "cells": [
  {
   "cell_type": "code",
   "execution_count": null,
   "id": "1d4a3df8",
   "metadata": {},
   "outputs": [],
   "source": [
    "import pickle\n",
    "\n",
    "import pandas as pd\n",
    "from getpass import getpass\n",
    "\n",
    "from melitk.fda2 import inventory\n",
    "\n",
    "from app.data.utils.sparksql import SparkSQL\n",
    "from app.data.utils.load_query import load_format\n",
    "from app.conf.settings import DEFAULT_PARAMS"
   ]
  },
  {
   "cell_type": "markdown",
   "id": "9e1230c7",
   "metadata": {},
   "source": [
    "# Access to the databases"
   ]
  },
  {
   "cell_type": "code",
   "execution_count": null,
   "id": "727b6863",
   "metadata": {},
   "outputs": [],
   "source": [
    "melidata_user = \"niacevedo\"\n",
    "melidata_pass = getpass()\n",
    "spark = SparkSQL(user=melidata_user, password=melidata_pass)"
   ]
  },
  {
   "cell_type": "markdown",
   "id": "ae40f668",
   "metadata": {},
   "source": [
    "# Data"
   ]
  },
  {
   "cell_type": "markdown",
   "id": "9d14fcd7",
   "metadata": {},
   "source": [
    "## Read"
   ]
  },
  {
   "cell_type": "code",
   "execution_count": null,
   "id": "c448f4ef",
   "metadata": {},
   "outputs": [],
   "source": [
    "filename = '../src/app/data/creatives_performance/performance.sql'\n",
    "query = load_format(filename, DEFAULT_PARAMS)"
   ]
  },
  {
   "cell_type": "code",
   "execution_count": null,
   "id": "a3954142",
   "metadata": {},
   "outputs": [],
   "source": [
    "df = spark.run_query(query)\n",
    "df.head()"
   ]
  },
  {
   "cell_type": "code",
   "execution_count": null,
   "id": "9eb6bf1c",
   "metadata": {},
   "outputs": [],
   "source": [
    "df.shape"
   ]
  },
  {
   "cell_type": "code",
   "execution_count": null,
   "id": "fda2f76d",
   "metadata": {},
   "outputs": [],
   "source": [
    "df.sort_values(['cday', 'campaign_id', 'line_item_id', 'creative_id'], inplace = True)"
   ]
  },
  {
   "cell_type": "markdown",
   "id": "73ac2953",
   "metadata": {},
   "source": [
    "## Processing"
   ]
  },
  {
   "cell_type": "code",
   "execution_count": null,
   "id": "7e6fd21a",
   "metadata": {},
   "outputs": [],
   "source": [
    "df = df[~pd.isnull(df['campaign_id'])]\n",
    "df = df[~pd.isnull(df['line_item_id'])]\n",
    "df = df[~pd.isnull(df['creative_id'])]"
   ]
  },
  {
   "cell_type": "markdown",
   "id": "90af8e10",
   "metadata": {},
   "source": [
    "## Save"
   ]
  },
  {
   "cell_type": "code",
   "execution_count": null,
   "id": "8828514f",
   "metadata": {},
   "outputs": [],
   "source": [
    "my_fury_new_token = 'dbe8df67db389e3155d6be40068da69e72413bb746d23bffe74762eb0fb2953b'\n",
    "inventory.init(token = my_fury_new_token)"
   ]
  },
  {
   "cell_type": "code",
   "execution_count": null,
   "id": "d13a8898",
   "metadata": {},
   "outputs": [],
   "source": [
    "# serialize\n",
    "data_bytes = pickle.dumps(df)\n",
    "\n",
    "# Create fda artifact\n",
    "artifact_name = 'clicks_prints_per_day'\n",
    "version = '1.0.0'\n",
    "artifact = inventory.create_artifact(artifact_name, version = version, type_ = 'fda.Bytes')\n",
    "artifact.save_from_bytes(data = data_bytes)"
   ]
  },
  {
   "cell_type": "code",
   "execution_count": null,
   "id": "2fadc28b",
   "metadata": {},
   "outputs": [],
   "source": []
  }
 ],
 "metadata": {
  "kernelspec": {
   "display_name": "Python 3 (ipykernel)",
   "language": "python",
   "name": "python3"
  },
  "language_info": {
   "codemirror_mode": {
    "name": "ipython",
    "version": 3
   },
   "file_extension": ".py",
   "mimetype": "text/x-python",
   "name": "python",
   "nbconvert_exporter": "python",
   "pygments_lexer": "ipython3",
   "version": "3.7.4"
  }
 },
 "nbformat": 4,
 "nbformat_minor": 5
}
