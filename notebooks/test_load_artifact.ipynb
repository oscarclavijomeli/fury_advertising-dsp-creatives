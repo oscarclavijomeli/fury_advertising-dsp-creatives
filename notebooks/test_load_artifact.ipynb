{
 "cells": [
  {
   "cell_type": "code",
   "execution_count": null,
   "id": "be143b51",
   "metadata": {},
   "outputs": [],
   "source": [
    "import pickle\n",
    "\n",
    "from melitk.fda2 import inventory"
   ]
  },
  {
   "cell_type": "code",
   "execution_count": null,
   "id": "6388114e",
   "metadata": {},
   "outputs": [],
   "source": [
    "token = ''\n",
    "my_fury_new_token = f'Bearer {token}'\n",
    "inventory.init(token = my_fury_new_token)"
   ]
  },
  {
   "cell_type": "code",
   "execution_count": null,
   "id": "9a38f56a",
   "metadata": {},
   "outputs": [],
   "source": [
    "artifact_name = 'clicks_displays_per_day'\n",
    "artifact = next(inventory.filter(name=artifact_name))"
   ]
  },
  {
   "cell_type": "code",
   "execution_count": null,
   "id": "3c12ef1d",
   "metadata": {},
   "outputs": [],
   "source": [
    "artifact_id = 'e26e801d-d4d5-4f08-a15a-252f0ac4b93b'\n",
    "artifact = inventory.get(artifact_id = artifact_id)"
   ]
  },
  {
   "cell_type": "code",
   "execution_count": null,
   "id": "76df32ea",
   "metadata": {},
   "outputs": [],
   "source": [
    "df_bytes = artifact.load_to_bytes()"
   ]
  },
  {
   "cell_type": "code",
   "execution_count": null,
   "id": "d1fb8df9",
   "metadata": {},
   "outputs": [],
   "source": [
    "df = pickle.loads(df_bytes)\n",
    "df.head()"
   ]
  },
  {
   "cell_type": "code",
   "execution_count": null,
   "id": "87e0c943",
   "metadata": {},
   "outputs": [],
   "source": [
    "df_grouped = df.groupby(['campaign_id', 'line_item_id'])[['creative_id']].count()"
   ]
  },
  {
   "cell_type": "code",
   "execution_count": null,
   "id": "56486ca1",
   "metadata": {},
   "outputs": [],
   "source": [
    "boolean = df_grouped > 1"
   ]
  },
  {
   "cell_type": "code",
   "execution_count": null,
   "id": "d0139a22",
   "metadata": {},
   "outputs": [],
   "source": [
    "df_grouped"
   ]
  },
  {
   "cell_type": "code",
   "execution_count": null,
   "id": "ef01ac4b",
   "metadata": {},
   "outputs": [],
   "source": [
    "boolean['creative_id'].mean()"
   ]
  },
  {
   "cell_type": "code",
   "execution_count": null,
   "id": "6a5e4518",
   "metadata": {},
   "outputs": [],
   "source": [
    "df_grouped[df_grouped['creative_id'] > 1]"
   ]
  },
  {
   "cell_type": "code",
   "execution_count": null,
   "id": "324ff982",
   "metadata": {},
   "outputs": [],
   "source": []
  }
 ],
 "metadata": {
  "kernelspec": {
   "display_name": "Python 3 (ipykernel)",
   "language": "python",
   "name": "python3"
  },
  "language_info": {
   "codemirror_mode": {
    "name": "ipython",
    "version": 3
   },
   "file_extension": ".py",
   "mimetype": "text/x-python",
   "name": "python",
   "nbconvert_exporter": "python",
   "pygments_lexer": "ipython3",
   "version": "3.7.4"
  }
 },
 "nbformat": 4,
 "nbformat_minor": 5
}
