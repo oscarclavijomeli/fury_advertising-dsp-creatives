{
 "cells": [
  {
   "cell_type": "code",
   "execution_count": null,
   "id": "2b233fb4",
   "metadata": {},
   "outputs": [],
   "source": [
    "from melitk import metrics"
   ]
  },
  {
   "cell_type": "code",
   "execution_count": null,
   "id": "bca0a1f8",
   "metadata": {},
   "outputs": [],
   "source": [
    "dir(metrics)"
   ]
  },
  {
   "cell_type": "code",
   "execution_count": null,
   "id": "c3ea7708",
   "metadata": {},
   "outputs": [],
   "source": []
  }
 ],
 "metadata": {
  "kernelspec": {
   "display_name": "Python 3 (ipykernel)",
   "language": "python",
   "name": "python3"
  },
  "language_info": {
   "codemirror_mode": {
    "name": "ipython",
    "version": 3
   },
   "file_extension": ".py",
   "mimetype": "text/x-python",
   "name": "python",
   "nbconvert_exporter": "python",
   "pygments_lexer": "ipython3",
   "version": "3.7.4"
  }
 },
 "nbformat": 4,
 "nbformat_minor": 5
}
