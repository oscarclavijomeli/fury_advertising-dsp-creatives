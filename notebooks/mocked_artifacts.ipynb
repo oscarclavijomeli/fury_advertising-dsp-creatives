{
 "cells": [
  {
   "cell_type": "code",
   "execution_count": null,
   "id": "de18801a",
   "metadata": {},
   "outputs": [],
   "source": [
    "import json\n",
    "\n",
    "import pandas as pd\n",
    "\n",
    "from melitk.fda2 import inventory\n",
    "from getpass import getpass"
   ]
  },
  {
   "cell_type": "code",
   "execution_count": null,
   "id": "a730f545",
   "metadata": {},
   "outputs": [],
   "source": [
    "token = getpass()\n",
    "tiger_token = f\"Bearer {token}\"\n",
    "inventory.init(token=tiger_token)"
   ]
  },
  {
   "cell_type": "code",
   "execution_count": null,
   "id": "f60bc5dd",
   "metadata": {},
   "outputs": [],
   "source": [
    "artifact_names = [f'mocked_artifact_{i}' for i in range(1, 6)]\n",
    "artifacts = [\n",
    "    {},\n",
    "    {123: {234: {345: {'alpha': -1, 'beta': 0}, 'default': {'alpha': 3, 'beta': 4}}}},\n",
    "    {\n",
    "        123: {234: {345: {'alpha': 2, 'beta': 3}, 'default': {'alpha': 3, 'beta': 4}}},\n",
    "        123: {234: {345: {'alpha': 2, 'beta': 10}, 'default': {'alpha': 3, 'beta': 4}}}\n",
    "    },\n",
    "    {123: {234: {'default': {'alpha': 3, 'beta': 4}}}},\n",
    "    {123: {234: {345: {'alpha': 3, 'beta': 4}}}}\n",
    "]\n",
    "artifacts = [json.dumps(artifact).encode('utf-8') for artifact in artifacts]\n",
    "version = '0.0.1'"
   ]
  },
  {
   "cell_type": "code",
   "execution_count": null,
   "id": "35fc4749",
   "metadata": {},
   "outputs": [],
   "source": [
    "for artifact_name, artifact_bytes in zip(artifact_names, artifacts):\n",
    "    artifact = inventory.create_artifact(artifact_name=artifact_name, version=version, type_='fda.Bytes')\n",
    "    artifact.save_from_bytes(artifact_bytes)"
   ]
  },
  {
   "cell_type": "code",
   "execution_count": null,
   "id": "dae2e69e",
   "metadata": {},
   "outputs": [],
   "source": [
    "artifact_input_name = 'test_ctr_beta_parameters'\n",
    "artifact_input = next(inventory.filter(name=artifact_input_name))"
   ]
  },
  {
   "cell_type": "code",
   "execution_count": null,
   "id": "2c15dcd4",
   "metadata": {},
   "outputs": [],
   "source": [
    "def next_patch(version: str) -> str:\n",
    "    version_splitted = version.split('-')\n",
    "    numbers = version_splitted[0].split('.')\n",
    "    numbers[2] = str(int(numbers[2]) + 1)\n",
    "    version_splitted[0] = '.'.join(numbers)\n",
    "    version = '-'.join(version_splitted)\n",
    "    return version\n",
    "\n",
    "next_patch(artifact_input.version)"
   ]
  },
  {
   "cell_type": "code",
   "execution_count": null,
   "id": "03f83de3",
   "metadata": {},
   "outputs": [],
   "source": [
    "creative_list = json.loads(artifact_input.load_to_bytes())"
   ]
  },
  {
   "cell_type": "code",
   "execution_count": null,
   "id": "d62c0f7d",
   "metadata": {},
   "outputs": [],
   "source": [
    "creative_list"
   ]
  },
  {
   "cell_type": "code",
   "execution_count": null,
   "id": "b88779b6",
   "metadata": {},
   "outputs": [],
   "source": [
    "artifact_output_name = 'prod_ctr_beta_parameters'\n",
    "artifact_output = inventory.create_artifact(\n",
    "    artifact_name=artifact_output_name,\n",
    "    version='0.0.8-MLA-Production',\n",
    "    type_='fda.Bytes',\n",
    "    ttl=7\n",
    ")"
   ]
  },
  {
   "cell_type": "code",
   "execution_count": null,
   "id": "2563256b",
   "metadata": {},
   "outputs": [],
   "source": [
    "artifact_output.save_from_bytes(json.dumps(creative_list).encode('utf-8'))"
   ]
  },
  {
   "cell_type": "code",
   "execution_count": null,
   "id": "cc410969",
   "metadata": {},
   "outputs": [],
   "source": [
    "artifact = next(inventory.filter(name=artifact_output_name))"
   ]
  },
  {
   "cell_type": "code",
   "execution_count": null,
   "id": "9de6fe56",
   "metadata": {},
   "outputs": [],
   "source": [
    "json.loads(artifact.load_to_bytes())"
   ]
  },
  {
   "cell_type": "code",
   "execution_count": null,
   "id": "45159933",
   "metadata": {},
   "outputs": [],
   "source": []
  }
 ],
 "metadata": {
  "kernelspec": {
   "display_name": "Python 3 (ipykernel)",
   "language": "python",
   "name": "python3"
  },
  "language_info": {
   "codemirror_mode": {
    "name": "ipython",
    "version": 3
   },
   "file_extension": ".py",
   "mimetype": "text/x-python",
   "name": "python",
   "nbconvert_exporter": "python",
   "pygments_lexer": "ipython3",
   "version": "3.7.4"
  }
 },
 "nbformat": 4,
 "nbformat_minor": 5
}
