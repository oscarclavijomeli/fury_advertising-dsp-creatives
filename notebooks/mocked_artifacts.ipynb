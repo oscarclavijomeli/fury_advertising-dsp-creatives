{
 "cells": [
  {
   "cell_type": "code",
   "execution_count": null,
   "id": "1b63ab29",
   "metadata": {},
   "outputs": [],
   "source": [
    "import json\n",
    "\n",
    "from melitk.fda2 import inventory\n",
    "from getpass import getpass"
   ]
  },
  {
   "cell_type": "code",
   "execution_count": null,
   "id": "e6c710bf",
   "metadata": {},
   "outputs": [],
   "source": [
    "token = getpass()\n",
    "tiger_token = f\"Bearer {token}\"\n",
    "inventory.init(token=tiger_token)"
   ]
  },
  {
   "cell_type": "code",
   "execution_count": null,
   "id": "bb8ace3b",
   "metadata": {},
   "outputs": [],
   "source": [
    "artifact_names = [f'mocked_artifact_{i}' for i in range(1, 6)]\n",
    "artifacts = [\n",
    "    {},\n",
    "    {123: {234: {345: {'alpha': -1, 'beta': 0}, 'default': {'alpha': 3, 'beta': 4}}}},\n",
    "    {\n",
    "        123: {234: {345: {'alpha': 2, 'beta': 3}, 'default': {'alpha': 3, 'beta': 4}}},\n",
    "        123: {234: {345: {'alpha': 2, 'beta': 10}, 'default': {'alpha': 3, 'beta': 4}}}\n",
    "    },\n",
    "    {123: {234: {'default': {'alpha': 3, 'beta': 4}}}},\n",
    "    {123: {234: {345: {'alpha': 3, 'beta': 4}}}}\n",
    "]\n",
    "artifacts = [json.dumps(artifact).encode('utf-8') for artifact in artifacts]\n",
    "version = '0.0.1'"
   ]
  },
  {
   "cell_type": "code",
   "execution_count": null,
   "id": "d0564afd",
   "metadata": {},
   "outputs": [],
   "source": [
    "for artifact_name, artifact_bytes in zip(artifact_names, artifacts):\n",
    "    artifact = inventory.create_artifact(artifact_name=artifact_name, version=version, type_='fda.Bytes')\n",
    "    artifact.save_from_bytes(artifact_bytes)"
   ]
  },
  {
   "cell_type": "code",
   "execution_count": null,
   "id": "db34335d",
   "metadata": {},
   "outputs": [],
   "source": []
  }
 ],
 "metadata": {
  "kernelspec": {
   "display_name": "Python 3 (ipykernel)",
   "language": "python",
   "name": "python3"
  },
  "language_info": {
   "codemirror_mode": {
    "name": "ipython",
    "version": 3
   },
   "file_extension": ".py",
   "mimetype": "text/x-python",
   "name": "python",
   "nbconvert_exporter": "python",
   "pygments_lexer": "ipython3",
   "version": "3.7.4"
  }
 },
 "nbformat": 4,
 "nbformat_minor": 5
}
