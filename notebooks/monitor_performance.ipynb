{
 "cells": [
  {
   "cell_type": "code",
   "execution_count": null,
   "id": "c31ee595",
   "metadata": {},
   "outputs": [],
   "source": [
    "import json\n",
    "import seaborn as sns\n",
    "from matplotlib import pyplot as plt\n",
    "from matplotlib.legend_handler import HandlerLine2D\n",
    "from matplotlib.patches import Patch\n",
    "import pandas as pd\n",
    "import numpy as np\n",
    "\n",
    "from app.data.utils.bigquery import BigQuery\n",
    "\n",
    "bq = BigQuery()"
   ]
  },
  {
   "cell_type": "code",
   "execution_count": null,
   "id": "ac4a36e7",
   "metadata": {},
   "outputs": [],
   "source": [
    "sql = '''\n",
    "SELECT campaign_id, line_item_id, COUNT(DISTINCT creative_id) AS n_creatives, MIN(ds) AS min_ds, MAX(ds) AS max_ds\n",
    "FROM `meli-bi-data.SBOX_DSPCREATIVOS.BQ_PRINTS_CLICKS_PER_HOUR`\n",
    "GROUP BY 1,2\n",
    "HAVING n_creatives > 1\n",
    "'''\n",
    "\n",
    "df = bq.run_query(sql)\n",
    "df"
   ]
  },
  {
   "cell_type": "code",
   "execution_count": null,
   "id": "74e78e53",
   "metadata": {},
   "outputs": [],
   "source": [
    "campaign_id = 5784\n",
    "line_item_id = 12654\n",
    "sql = f'''\n",
    "WITH grouped AS\n",
    "(\n",
    "    SELECT ds, campaign_id, line_item_id, creative_id, SUM(n_clicks) AS n_clicks, SUM(n_prints) AS n_prints\n",
    "    FROM `meli-bi-data.SBOX_DSPCREATIVOS.BQ_PRINTS_CLICKS_PER_HOUR`\n",
    "    WHERE campaign_id = {campaign_id} AND line_item_id = {line_item_id}\n",
    "    GROUP BY 1,2,3,4\n",
    ")\n",
    "\n",
    "SELECT *, n_clicks / n_prints AS ctr\n",
    "FROM grouped\n",
    "ORDER BY ds, creative_id\n",
    "'''\n",
    "\n",
    "df = bq.run_query(sql)"
   ]
  },
  {
   "cell_type": "code",
   "execution_count": null,
   "id": "4b05b89f",
   "metadata": {},
   "outputs": [],
   "source": [
    "pivot = pd.pivot_table(data=df, index=['ds'], columns=['creative_id'], values='n_prints')\n",
    "pivot_ctr = pd.pivot_table(data=df, index=['ds'], columns=['creative_id'], values='ctr')"
   ]
  },
  {
   "cell_type": "code",
   "execution_count": null,
   "id": "05506613",
   "metadata": {},
   "outputs": [],
   "source": [
    "std_pivot = (pivot.T / pivot.agg(sum, axis = 1)).T"
   ]
  },
  {
   "cell_type": "code",
   "execution_count": null,
   "id": "6a5179fb",
   "metadata": {},
   "outputs": [],
   "source": [
    "df_grouped = df.groupby('creative_id')[['n_prints', 'n_clicks']].sum()"
   ]
  },
  {
   "cell_type": "code",
   "execution_count": null,
   "id": "6befd09e",
   "metadata": {},
   "outputs": [],
   "source": [
    "df_grouped = pd.concat([df_grouped, pd.DataFrame(df_grouped.sum()).T.rename({0: 'Total'})])"
   ]
  },
  {
   "cell_type": "code",
   "execution_count": null,
   "id": "1ea5a8eb",
   "metadata": {},
   "outputs": [],
   "source": [
    "df_grouped['ctr'] = df_grouped['n_clicks'] / df_grouped['n_prints']\n",
    "df_grouped"
   ]
  },
  {
   "cell_type": "code",
   "execution_count": null,
   "id": "dbba38be",
   "metadata": {},
   "outputs": [],
   "source": [
    "sns.set_theme()\n",
    "fig, (ax1, ax2) = plt.subplots(2, figsize=(7, 9))\n",
    "\n",
    "fig.suptitle(f'campaign_id = {df[\"campaign_id\"].values[0]}, line_item_id = {df[\"line_item_id\"].values[0]}')\n",
    "\n",
    "std_pivot.plot.bar(stacked=True, ax = ax2)\n",
    "ax2.set_ylabel('Prints')\n",
    "ax2.get_legend().remove()\n",
    "\n",
    "pivot_ctr.set_index(ax2.get_xticks(), inplace=True)\n",
    "pivot_ctr.plot(ax=ax1)\n",
    "ax1.set_ylabel('ctr')\n",
    "ax1.set_xlim(ax2.get_xlim())\n",
    "ax1.tick_params(\n",
    "    axis='x',          # changes apply to the x-axis\n",
    "    which='both',      # both major and minor ticks are affected\n",
    "    bottom=False,      # ticks along the bottom edge are off\n",
    "    top=False,         # ticks along the top edge are off\n",
    "    labelbottom=False) # labels along the bottom edge are off\n",
    "ax1.set_xlabel('')\n",
    "\n",
    "plt.tight_layout()\n",
    "plt.savefig(f'bidder_example_{df[\"campaign_id\"].values[0]}_{df[\"line_item_id\"].values[0]}.png', dpi=300)"
   ]
  },
  {
   "cell_type": "code",
   "execution_count": null,
   "id": "b428ac3e",
   "metadata": {},
   "outputs": [],
   "source": []
  }
 ],
 "metadata": {
  "kernelspec": {
   "display_name": "Python 3 (ipykernel)",
   "language": "python",
   "name": "python3"
  },
  "language_info": {
   "codemirror_mode": {
    "name": "ipython",
    "version": 3
   },
   "file_extension": ".py",
   "mimetype": "text/x-python",
   "name": "python",
   "nbconvert_exporter": "python",
   "pygments_lexer": "ipython3",
   "version": "3.7.4"
  }
 },
 "nbformat": 4,
 "nbformat_minor": 5
}
