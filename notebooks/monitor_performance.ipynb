{
 "cells": [
  {
   "cell_type": "code",
   "execution_count": null,
   "id": "02f64a55",
   "metadata": {},
   "outputs": [],
   "source": [
    "import json\n",
    "import seaborn as sns\n",
    "from matplotlib import pyplot as plt\n",
    "from matplotlib.legend_handler import HandlerLine2D\n",
    "from matplotlib.patches import Patch\n",
    "import pandas as pd\n",
    "import numpy as np\n",
    "\n",
    "from app.data.utils.bigquery import BigQuery\n",
    "\n",
    "bq = BigQuery()"
   ]
  },
  {
   "cell_type": "code",
   "execution_count": null,
   "id": "619987ea",
   "metadata": {},
   "outputs": [],
   "source": [
    "sql = '''\n",
    "WITH by_ds_creative AS\n",
    "(\n",
    "    SELECT\n",
    "        ds,\n",
    "        site,\n",
    "        campaign_id,\n",
    "        line_item_id,\n",
    "        creative_id,\n",
    "        SUM(n_prints) AS n_prints,\n",
    "        SUM(n_clicks) AS n_clicks\n",
    "    FROM `meli-bi-data.SBOX_DSPCREATIVOS.BQ_PRINTS_CLICKS_PER_HOUR`\n",
    "    WHERE ds BETWEEN DATE(\"2022-12-27\") + 1 AND CURRENT_DATE - 1\n",
    "    GROUP BY 1,2,3,4,5\n",
    "    HAVING n_prints >= 100\n",
    "),\n",
    "ctrs AS\n",
    "(\n",
    "    SELECT\n",
    "        ds,\n",
    "        site,\n",
    "        campaign_id,\n",
    "        line_item_id,\n",
    "        STRING_AGG(CAST(creative_id AS STRING), ',' ORDER BY creative_id) AS creative_ids,\n",
    "        COUNT(DISTINCT creative_id) AS n_creatives,\n",
    "        SUM(n_prints) AS n_prints,\n",
    "        SUM(n_clicks) AS n_clicks,\n",
    "        AVG(SAFE_DIVIDE(n_clicks, n_prints)) * 100 AS avg_ctr_by_creative,\n",
    "        SAFE_DIVIDE(SUM(n_clicks), SUM(n_prints)) * 100 AS ctr_by_line_item\n",
    "    FROM by_ds_creative\n",
    "    GROUP BY 1,2,3,4\n",
    "    HAVING n_creatives > 1\n",
    "),\n",
    "grouped AS\n",
    "(\n",
    "    SELECT\n",
    "        site,\n",
    "        campaign_id,\n",
    "        line_item_id,\n",
    "        creative_ids,\n",
    "        n_creatives,\n",
    "        MIN(ds) AS min_ds,\n",
    "        MAX(ds) AS max_ds,\n",
    "        SUM(n_prints) AS n_prints,\n",
    "        SUM(n_clicks) AS n_clicks,\n",
    "        AVG(avg_ctr_by_creative) AS avg_ctr_by_creative,\n",
    "        AVG(ctr_by_line_item) AS ctr_by_line_item\n",
    "    FROM ctrs\n",
    "    GROUP BY 1,2,3,4,5\n",
    ")\n",
    "\n",
    "SELECT\n",
    "    * EXCEPT(n_clicks),\n",
    "    DATE_DIFF(max_ds, min_ds, DAY) + 1 AS n_days,\n",
    "    n_clicks,\n",
    "    avg_ctr_by_creative * n_prints / 100 AS avg_ctr_by_creative_x_n_prints,\n",
    "    (ctr_by_line_item - avg_ctr_by_creative) * n_prints / 100 AS additional_clicks,\n",
    "    ctr_by_line_item - avg_ctr_by_creative AS lift,\n",
    "    SAFE_DIVIDE((ctr_by_line_item - avg_ctr_by_creative), avg_ctr_by_creative) AS relative_increment\n",
    "FROM grouped\n",
    "WHERE DATE_DIFF(max_ds, min_ds, DAY) + 1 > 2\n",
    "'''\n",
    "\n",
    "df = bq.run_query(sql)\n",
    "df.sort_values('relative_increment', ascending=False)"
   ]
  },
  {
   "cell_type": "code",
   "execution_count": null,
   "id": "e366062a",
   "metadata": {},
   "outputs": [],
   "source": [
    "df.to_csv('creatives_performance.csv', index=False)"
   ]
  },
  {
   "cell_type": "code",
   "execution_count": null,
   "id": "e313a46d",
   "metadata": {},
   "outputs": [],
   "source": [
    "df['additional_clicks'].sum()"
   ]
  },
  {
   "cell_type": "code",
   "execution_count": null,
   "id": "60c232e5",
   "metadata": {},
   "outputs": [],
   "source": [
    "df['additional_clicks'].sum() / df['avg_ctr_by_creative_x_n_prints'].sum()"
   ]
  },
  {
   "cell_type": "code",
   "execution_count": null,
   "id": "f13107b7",
   "metadata": {},
   "outputs": [],
   "source": [
    "campaign_id = 5834\n",
    "line_item_id = 12797\n",
    "sql = f'''\n",
    "WITH grouped AS\n",
    "(\n",
    "    SELECT ds, campaign_id, line_item_id, creative_id, SUM(n_clicks) AS n_clicks, SUM(n_prints) AS n_prints\n",
    "    FROM `meli-bi-data.SBOX_DSPCREATIVOS.BQ_PRINTS_CLICKS_PER_HOUR`\n",
    "    WHERE campaign_id = {campaign_id} AND line_item_id = {line_item_id}\n",
    "    GROUP BY 1,2,3,4\n",
    ")\n",
    "\n",
    "SELECT *, n_clicks / n_prints AS ctr\n",
    "FROM grouped\n",
    "ORDER BY ds, creative_id\n",
    "'''\n",
    "\n",
    "df = bq.run_query(sql)"
   ]
  },
  {
   "cell_type": "code",
   "execution_count": null,
   "id": "c16a285c",
   "metadata": {},
   "outputs": [],
   "source": [
    "pivot = pd.pivot_table(data=df, index=['ds'], columns=['creative_id'], values='n_prints')\n",
    "pivot_ctr = pd.pivot_table(data=df, index=['ds'], columns=['creative_id'], values='ctr')"
   ]
  },
  {
   "cell_type": "code",
   "execution_count": null,
   "id": "862391d5",
   "metadata": {},
   "outputs": [],
   "source": [
    "std_pivot = (pivot.T / pivot.agg(sum, axis = 1)).T"
   ]
  },
  {
   "cell_type": "code",
   "execution_count": null,
   "id": "09852eb7",
   "metadata": {},
   "outputs": [],
   "source": [
    "df_grouped = df.groupby('creative_id')[['n_prints', 'n_clicks']].sum()"
   ]
  },
  {
   "cell_type": "code",
   "execution_count": null,
   "id": "e0bc1b8d",
   "metadata": {},
   "outputs": [],
   "source": [
    "df_grouped = pd.concat([df_grouped, pd.DataFrame(df_grouped.sum()).T.rename({0: 'Total'})])"
   ]
  },
  {
   "cell_type": "code",
   "execution_count": null,
   "id": "c25668a2",
   "metadata": {},
   "outputs": [],
   "source": [
    "df_grouped['ctr'] = df_grouped['n_clicks'] / df_grouped['n_prints']\n",
    "df_grouped"
   ]
  },
  {
   "cell_type": "code",
   "execution_count": null,
   "id": "93c74a4c",
   "metadata": {},
   "outputs": [],
   "source": [
    "sns.set_theme()\n",
    "fig, (ax1, ax2) = plt.subplots(2, figsize=(7, 9))\n",
    "\n",
    "fig.suptitle(f'campaign_id = {df[\"campaign_id\"].values[0]}, line_item_id = {df[\"line_item_id\"].values[0]}')\n",
    "\n",
    "std_pivot.plot.bar(stacked=True, ax = ax2)\n",
    "ax2.set_ylabel('Prints')\n",
    "ax2.get_legend().remove()\n",
    "\n",
    "pivot_ctr.set_index(ax2.get_xticks(), inplace=True)\n",
    "pivot_ctr.plot(ax=ax1)\n",
    "ax1.set_ylabel('ctr')\n",
    "ax1.set_xlim(ax2.get_xlim())\n",
    "ax1.tick_params(\n",
    "    axis='x',          # changes apply to the x-axis\n",
    "    which='both',      # both major and minor ticks are affected\n",
    "    bottom=False,      # ticks along the bottom edge are off\n",
    "    top=False,         # ticks along the top edge are off\n",
    "    labelbottom=False) # labels along the bottom edge are off\n",
    "ax1.set_xlabel('')\n",
    "\n",
    "plt.tight_layout()\n",
    "plt.savefig(f'bidder_example_{df[\"campaign_id\"].values[0]}_{df[\"line_item_id\"].values[0]}.png', dpi=300)"
   ]
  },
  {
   "cell_type": "code",
   "execution_count": null,
   "id": "6d0c7953",
   "metadata": {},
   "outputs": [],
   "source": []
  }
 ],
 "metadata": {
  "kernelspec": {
   "display_name": "Python 3 (ipykernel)",
   "language": "python",
   "name": "python3"
  },
  "language_info": {
   "codemirror_mode": {
    "name": "ipython",
    "version": 3
   },
   "file_extension": ".py",
   "mimetype": "text/x-python",
   "name": "python",
   "nbconvert_exporter": "python",
   "pygments_lexer": "ipython3",
   "version": "3.7.4"
  }
 },
 "nbformat": 4,
 "nbformat_minor": 5
}
