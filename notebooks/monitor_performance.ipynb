{
 "cells": [
  {
   "cell_type": "code",
   "execution_count": null,
   "id": "7b697170",
   "metadata": {},
   "outputs": [],
   "source": [
    "import json\n",
    "import seaborn as sns\n",
    "from matplotlib import pyplot as plt\n",
    "from matplotlib.legend_handler import HandlerLine2D\n",
    "from matplotlib.patches import Patch\n",
    "import pandas as pd\n",
    "import numpy as np\n",
    "from getpass import getpass\n",
    "\n",
    "from melitk.fda2 import inventory\n",
    "\n",
    "from app.data.utils.bigquery import BigQuery\n",
    "\n",
    "bq = BigQuery()\n",
    "\n",
    "token = getpass()\n",
    "tiger_token = f\"Bearer {token}\"\n",
    "inventory.init(token=tiger_token)"
   ]
  },
  {
   "cell_type": "code",
   "execution_count": null,
   "id": "842eda66",
   "metadata": {},
   "outputs": [],
   "source": [
    "sql = '''\n",
    "SELECT *, n_clicks / n_prints AS CTR\n",
    "FROM `meli-bi-data.SBOX_DSPCREATIVOS.BQ_PRINTS_CLICKS_PER_DAY`\n",
    "WHERE campaign_id=5278 AND line_item_id=11346\n",
    "ORDER BY line_item_id, creative_id, ds\n",
    "'''\n",
    "\n",
    "df = bq.run_query(sql)"
   ]
  },
  {
   "cell_type": "code",
   "execution_count": null,
   "id": "06a78415",
   "metadata": {},
   "outputs": [],
   "source": [
    "pivot = pd.pivot_table(data=df, index=['ds'], columns=['creative_id'], values='n_prints')"
   ]
  },
  {
   "cell_type": "code",
   "execution_count": null,
   "id": "e7b1d262",
   "metadata": {},
   "outputs": [],
   "source": [
    "std_pivot = (pivot.T / pivot.agg(sum, axis = 1)).T"
   ]
  },
  {
   "cell_type": "code",
   "execution_count": null,
   "id": "fb14c0a7",
   "metadata": {},
   "outputs": [],
   "source": [
    "df_grouped = df.groupby('creative_id')['n_prints', 'n_clicks'].sum()"
   ]
  },
  {
   "cell_type": "code",
   "execution_count": null,
   "id": "718dd86b",
   "metadata": {},
   "outputs": [],
   "source": [
    "df_grouped = pd.concat([df_grouped, pd.DataFrame(df_grouped.sum()).T.rename({0: 'Total'})])"
   ]
  },
  {
   "cell_type": "code",
   "execution_count": null,
   "id": "6d8493bf",
   "metadata": {},
   "outputs": [],
   "source": [
    "df_grouped['ctr'] = df_grouped['n_clicks'] / df_grouped['n_prints']"
   ]
  },
  {
   "cell_type": "code",
   "execution_count": null,
   "id": "e23e9b9e",
   "metadata": {},
   "outputs": [],
   "source": [
    "0.003982 * 1000000 - 3086"
   ]
  },
  {
   "cell_type": "code",
   "execution_count": null,
   "id": "39e54a94",
   "metadata": {},
   "outputs": [],
   "source": [
    "0.0039 - (0.0023 + 0.0029)/2"
   ]
  },
  {
   "cell_type": "code",
   "execution_count": null,
   "id": "5ac01fa8",
   "metadata": {},
   "outputs": [],
   "source": [
    "pivot.sum()"
   ]
  },
  {
   "cell_type": "code",
   "execution_count": null,
   "id": "5bac6e11",
   "metadata": {},
   "outputs": [],
   "source": [
    "fig, ax = plt.subplots(figsize=(10, 7))\n",
    "pivot.plot.bar(stacked = True, ax=ax)\n",
    "creative_handler = []\n",
    "for creative_id in df['creative_id'].unique():\n",
    "    df_temp = df[df['creative_id']==creative_id]\n",
    "    x = range(len(df_temp))\n",
    "    line, = ax.plot(x, df_temp['CTR'], label = creative_id)\n",
    "    color = line.get_markeredgecolor()\n",
    "    creative_handler.append(Patch(label=creative_id, facecolor=color, edgecolor=color))\n",
    "ax.set_xticks(ticks=x, labels=df_temp['ds'], rotation=90)\n",
    "ax.legend(bbox_to_anchor=(1, 1), handles=creative_handler, title='Creative id')\n",
    "ax.set_xlabel('')\n",
    "ax.set_ylabel('Number of prints')\n",
    "ax.set_ylim((0,255000))\n",
    "ax.yaxis.set_major_formatter(ticker.FuncFormatter(lambda x, p: format(int(x), ',')))\n",
    "fig.tight_layout()\n",
    "plt.savefig('dist.png', dpi=300)"
   ]
  },
  {
   "cell_type": "code",
   "execution_count": null,
   "id": "036ede8c",
   "metadata": {},
   "outputs": [],
   "source": [
    "30 * 2 / 8 * 1166307 *900/1000000"
   ]
  },
  {
   "cell_type": "code",
   "execution_count": null,
   "id": "18b7c277",
   "metadata": {},
   "outputs": [],
   "source": [
    "sql = '''\n",
    "SELECT *, n_clicks / n_prints AS CTR\n",
    "FROM `meli-bi-data.SBOX_DSPCREATIVOS.BQ_PRINTS_CLICKS_PER_DAY`\n",
    "WHERE campaign_id=5278 AND line_item_id=11867\n",
    "ORDER BY line_item_id, creative_id, ds\n",
    "'''\n",
    "\n",
    "df = bq.run_query(sql)\n",
    "pivot = pd.pivot_table(data=df, index=['ds'], columns=['creative_id'], values='n_prints')\n",
    "std_pivot = (pivot.T / pivot.agg(sum, axis = 1)).T\n",
    "\n",
    "fig, ax = plt.subplots(figsize=(10, 7))\n",
    "pivot.plot.bar(stacked = True, ax=ax)\n",
    "creative_handler = []\n",
    "for creative_id in df['creative_id'].unique():\n",
    "    df_temp = df[df['creative_id']==creative_id]\n",
    "    x = range(len(df_temp))\n",
    "    line, = ax.plot(x, df_temp['CTR'], label = creative_id)\n",
    "    color = line.get_markeredgecolor()\n",
    "    creative_handler.append(Patch(label=creative_id, facecolor=color, edgecolor=color))\n",
    "ax.set_xticks(ticks=x, labels=df_temp['ds'], rotation=90)\n",
    "ax.legend(bbox_to_anchor=(1, 1), handles=creative_handler, title='Creative id')\n",
    "ax.set_xlabel('')\n",
    "ax.set_ylabel('Number of prints')\n",
    "ax.set_ylim((0,255000))\n",
    "ax.yaxis.set_major_formatter(ticker.FuncFormatter(lambda x, p: format(int(x), ',')))\n",
    "fig.tight_layout()\n",
    "plt.savefig('dist2.png', dpi=300)"
   ]
  },
  {
   "cell_type": "code",
   "execution_count": null,
   "id": "fdd1539b",
   "metadata": {},
   "outputs": [],
   "source": [
    "fig, (ax1, ax2) = plt.subplots(1, 2, figsize=(10, 4))\n",
    "pivot.plot.bar(stacked = True, ax=ax1)\n",
    "creative_handler = []\n",
    "for creative_id in df['creative_id'].unique():\n",
    "    df_temp = df[df['creative_id']==creative_id]\n",
    "    x = range(len(df_temp))\n",
    "    line, = ax2.plot(x, df_temp['CTR'], label = creative_id)\n",
    "    color = line.get_markeredgecolor()\n",
    "    creative_handler.append(Patch(label=creative_id, facecolor=color, edgecolor=color))\n",
    "ax2.set_xticks(ticks=x, labels=df_temp['ds'], rotation=90)\n",
    "ax2.legend(bbox_to_anchor=(1, 1), handles=creative_handler, title='Creative id')\n",
    "ax1.set_xlabel('')\n",
    "ax1.legend().set_visible(False)\n",
    "ax1.set_ylabel('Distribución')\n",
    "ax2.set_ylabel('CTR')\n",
    "fig.tight_layout()\n",
    "plt.show()"
   ]
  },
  {
   "cell_type": "code",
   "execution_count": null,
   "id": "0d4d56e5",
   "metadata": {},
   "outputs": [],
   "source": [
    "fig, (ax1, ax2) = plt.subplots(1, 2, figsize=(10, 4))\n",
    "std_pivot.plot.bar(stacked = True, ax=ax1)\n",
    "creative_handler = []\n",
    "for creative_id in df['creative_id'].unique():\n",
    "    df_temp = df[df['creative_id']==creative_id]\n",
    "    x = range(len(df_temp))\n",
    "    line, = ax2.plot(x, df_temp['CTR'], label = creative_id)\n",
    "    color = line.get_markeredgecolor()\n",
    "    creative_handler.append(Patch(label=creative_id, facecolor=color, edgecolor=color))\n",
    "ax2.set_xticks(ticks=x, labels=df_temp['ds'], rotation=90)\n",
    "ax2.legend(bbox_to_anchor=(1, 1), handles=creative_handler, title='Creative id')\n",
    "ax1.set_xlabel('')\n",
    "ax1.legend().set_visible(False)\n",
    "ax1.set_ylabel('Distribución')\n",
    "ax2.set_ylabel('CTR')\n",
    "fig.tight_layout()\n",
    "plt.show()"
   ]
  },
  {
   "cell_type": "code",
   "execution_count": null,
   "id": "a744d37a",
   "metadata": {},
   "outputs": [],
   "source": [
    "artifact_input = next(inventory.filter(name='test_cr_parameters'))"
   ]
  },
  {
   "cell_type": "code",
   "execution_count": null,
   "id": "d4868a13",
   "metadata": {},
   "outputs": [],
   "source": [
    "dictionary = json.loads(artifact.load_to_bytes())"
   ]
  },
  {
   "cell_type": "code",
   "execution_count": null,
   "id": "a40bf7c5",
   "metadata": {},
   "outputs": [],
   "source": [
    "inventory.create_artifact??"
   ]
  },
  {
   "cell_type": "code",
   "execution_count": null,
   "id": "94101a10",
   "metadata": {},
   "outputs": [],
   "source": [
    "artifact_name = 'prod_ctr_beta_parameters'\n",
    "artifact = inventory.create_artifact(artifact_name=artifact_name, version='0.0.1-MLA-Production', type_='fda.Bytes', ttl=7)"
   ]
  },
  {
   "cell_type": "code",
   "execution_count": null,
   "id": "c23339f6",
   "metadata": {},
   "outputs": [],
   "source": [
    "artifact.save_from_bytes(artifact_input.load_to_bytes())"
   ]
  },
  {
   "cell_type": "code",
   "execution_count": null,
   "id": "ec4879d7",
   "metadata": {},
   "outputs": [],
   "source": [
    "def dict2dataframe(dictionary: dict) -> pd.DataFrame:\n",
    "    dataframe = pd.DataFrame()\n",
    "    for key, value in dictionary.items():\n",
    "        for key2, value2 in value.items():\n",
    "            for key3, value3 in value2.items():\n",
    "                temp = pd.DataFrame({\n",
    "                    'campaign_id': [key],\n",
    "                    'line_item_id': [key2],\n",
    "                    'creative_id': [key3],\n",
    "                    'alpha': [value3['alpha']],\n",
    "                    'beta': [value3['beta']],\n",
    "                })\n",
    "                dataframe = pd.concat([dataframe, temp])\n",
    "    return dataframe\n",
    "\n",
    "df = dict2dataframe(dictionary)"
   ]
  },
  {
   "cell_type": "code",
   "execution_count": null,
   "id": "fbfb5230",
   "metadata": {},
   "outputs": [],
   "source": [
    "sql = '''\n",
    "SELECT ds, campaign_id, line_item_id, COUNT(*) AS n_creatives\n",
    "FROM meli-bi-data.SBOX_DSPCREATIVOS.BQ_PRINTS_CLICKS_PER_DAY\n",
    "GROUP BY 1,2,3\n",
    "'''\n",
    "\n",
    "df = bq.run_query(sql)"
   ]
  },
  {
   "cell_type": "code",
   "execution_count": null,
   "id": "694164b1",
   "metadata": {},
   "outputs": [],
   "source": [
    "df[(df['n_creatives'] > 1) & (df['ds'].map(str) == '2022-12-14')]"
   ]
  },
  {
   "cell_type": "code",
   "execution_count": null,
   "id": "30414c6c",
   "metadata": {},
   "outputs": [],
   "source": [
    "sql = '''\n",
    "SELECT * EXCEPT(n_prints, n_clicks),\n",
    "    n_clicks / n_prints AS ctr,\n",
    "    SUM(n_prints) OVER cumulative_window AS n_prints,\n",
    "    SUM(n_clicks) OVER cumulative_window AS n_clicks,\n",
    "FROM meli-bi-data.SBOX_DSPCREATIVOS.BQ_PRINTS_CLICKS_PER_DAY\n",
    "WHERE campaign_id = 5278 AND line_item_id IN (11867/*, 11346*/)\n",
    "\n",
    "WINDOW cumulative_window AS\n",
    "(\n",
    "    PARTITION BY campaign_id, line_item_id, creative_id\n",
    "    ORDER BY ds\n",
    "    ROWS BETWEEN UNBOUNDED PRECEDING AND CURRENT ROW\n",
    ")\n",
    "\n",
    "ORDER BY line_item_id, creative_id, ds\n",
    "'''\n",
    "\n",
    "df = bq.run_query(sql)"
   ]
  },
  {
   "cell_type": "code",
   "execution_count": null,
   "id": "c2d6457c",
   "metadata": {},
   "outputs": [],
   "source": [
    "df.head()"
   ]
  },
  {
   "cell_type": "code",
   "execution_count": null,
   "id": "17ca55b3",
   "metadata": {},
   "outputs": [],
   "source": [
    "def beta_simulation(n_prints: int, n_clicks: int, size: int) -> np.ndarray:\n",
    "    \n",
    "    theta = np.random.beta(n_clicks + 1, n_prints + 1, size = size)\n",
    "    percentiles = np.percentile(theta, [.005, .5, .995])\n",
    "    \n",
    "    return theta, percentiles"
   ]
  },
  {
   "cell_type": "code",
   "execution_count": null,
   "id": "9a941f5e",
   "metadata": {},
   "outputs": [],
   "source": [
    "df[df['ds'].map(str) == \"2022-12-13\"]"
   ]
  },
  {
   "cell_type": "code",
   "execution_count": null,
   "id": "e6321668",
   "metadata": {},
   "outputs": [],
   "source": [
    "df.loc[:, ['p015', 'p50', 'p995']] = [beta_simulation(n_clicks=x, n_prints=y, size=100000).tolist() for x, y in df[['n_clicks', 'n_prints']].values]"
   ]
  },
  {
   "cell_type": "code",
   "execution_count": null,
   "id": "a3f94d42",
   "metadata": {},
   "outputs": [],
   "source": [
    "sql = '''\n",
    "SELECT * EXCEPT(n_prints, n_clicks),\n",
    "    n_clicks / n_prints AS ctr,\n",
    "    SUM(n_prints) OVER cumulative_window AS n_prints,\n",
    "    SUM(n_clicks) OVER cumulative_window AS n_clicks,\n",
    "FROM meli-bi-data.SBOX_DSPCREATIVOS.BQ_PRINTS_CLICKS_PER_DAY\n",
    "WHERE campaign_id = 5278 AND line_item_id IN (/*11867,*/11346)\n",
    "\n",
    "WINDOW cumulative_window AS\n",
    "(\n",
    "    PARTITION BY campaign_id, line_item_id, creative_id\n",
    "    ORDER BY ds\n",
    "    ROWS BETWEEN UNBOUNDED PRECEDING AND CURRENT ROW\n",
    ")\n",
    "\n",
    "ORDER BY line_item_id, creative_id, ds\n",
    "'''\n",
    "\n",
    "df = bq.run_query(sql)\n",
    "df.loc[:, ['p015', 'p50', 'p995']] = [beta_simulation(n_clicks=x, n_prints=y, size=100000)[1].tolist() for x, y in df[['n_clicks', 'n_prints']].values]\n",
    "from datetime import timedelta\n",
    "\n",
    "fig, ax = plt.subplots(figsize=(10, 6))\n",
    "lines = []\n",
    "for creative_id in df['creative_id'].unique():\n",
    "    df_temp = df[df['creative_id'] == creative_id]\n",
    "    ax.fill_between(range(1, len(df_temp) + 1), df_temp['p015']*100, df_temp['p995']*100, alpha=.3)\n",
    "    line, = ax.plot(range(1, len(df_temp) + 1), df_temp['p50']*100, label=f'{creative_id} cumulative beta median')\n",
    "    line2, = ax.plot(range(len(df_temp)), df_temp['ctr']*100, color=line.get_color(), ls='dotted', label=f'{creative_id} daily ctr')\n",
    "    lines.append(line)\n",
    "    lines.append(line2)\n",
    "ax.legend(handles=lines, bbox_to_anchor=(1,1))\n",
    "ax.set_xticks(range(len(df_temp) + 1), df_temp['ds'].values.tolist() + [df_temp['ds'].max() + timedelta(days=1)])\n",
    "plt.xticks(rotation=90)\n",
    "ax.set_ylabel('ctr')\n",
    "ax.set_ylim((0, 0.6))\n",
    "ax.yaxis.set_major_formatter(ticker.PercentFormatter())\n",
    "plt.tight_layout()\n",
    "plt.savefig('ctr_performance.png', dpi=300)"
   ]
  },
  {
   "cell_type": "code",
   "execution_count": null,
   "id": "8abe5012",
   "metadata": {},
   "outputs": [],
   "source": [
    "sql = '''\n",
    "SELECT * EXCEPT(n_prints, n_clicks),\n",
    "    n_clicks / n_prints AS ctr,\n",
    "    SUM(n_prints) OVER cumulative_window AS n_prints,\n",
    "    SUM(n_clicks) OVER cumulative_window AS n_clicks,\n",
    "FROM meli-bi-data.SBOX_DSPCREATIVOS.BQ_PRINTS_CLICKS_PER_DAY\n",
    "WHERE campaign_id = 5278 AND line_item_id IN (11867/*,11346*/)\n",
    "\n",
    "WINDOW cumulative_window AS\n",
    "(\n",
    "    PARTITION BY campaign_id, line_item_id, creative_id\n",
    "    ORDER BY ds\n",
    "    ROWS BETWEEN UNBOUNDED PRECEDING AND CURRENT ROW\n",
    ")\n",
    "\n",
    "ORDER BY line_item_id, creative_id, ds\n",
    "'''\n",
    "\n",
    "df = bq.run_query(sql)\n",
    "df.loc[:, ['p015', 'p50', 'p995']] = [beta_simulation(n_clicks=x, n_prints=y, size=100000).tolist() for x, y in df[['n_clicks', 'n_prints']].values]\n",
    "from datetime import timedelta\n",
    "\n",
    "fig, ax = plt.subplots(figsize=(10, 6))\n",
    "lines = []\n",
    "for creative_id in df['creative_id'].unique():\n",
    "    df_temp = df[df['creative_id'] == creative_id]\n",
    "    ax.fill_between(range(1, len(df_temp) + 1), df_temp['p015']*100, df_temp['p995']*100, alpha=.3)\n",
    "    line, = ax.plot(range(1, len(df_temp) + 1), df_temp['p50']*100, label=f'{creative_id} cumulative beta median')\n",
    "    line2, = ax.plot(range(len(df_temp)), df_temp['ctr']*100, color=line.get_color(), ls='dotted', label=f'{creative_id} daily ctr')\n",
    "    lines.append(line)\n",
    "    lines.append(line2)\n",
    "ax.legend(handles=lines, bbox_to_anchor=(1,1))\n",
    "ax.set_xticks(range(len(df_temp) + 1), df_temp['ds'].values.tolist() + [df_temp['ds'].max() + timedelta(days=1)])\n",
    "plt.xticks(rotation=90)\n",
    "ax.set_ylabel('ctr')\n",
    "ax.set_ylim((0, 1.3))\n",
    "ax.yaxis.set_major_formatter(ticker.PercentFormatter())\n",
    "plt.tight_layout()\n",
    "plt.savefig('ctr_performance2.png', dpi=300)"
   ]
  },
  {
   "cell_type": "code",
   "execution_count": null,
   "id": "88e8a5f4",
   "metadata": {},
   "outputs": [],
   "source": [
    "sql = '''\n",
    "SELECT * EXCEPT(n_prints, n_clicks),\n",
    "    n_clicks / n_prints AS ctr,\n",
    "    SUM(n_prints) OVER cumulative_window AS n_prints,\n",
    "    SUM(n_clicks) OVER cumulative_window AS n_clicks,\n",
    "FROM meli-bi-data.SBOX_DSPCREATIVOS.BQ_PRINTS_CLICKS_PER_DAY\n",
    "WHERE campaign_id = 5278 AND line_item_id IN (11867/*,11346*/)\n",
    "\n",
    "WINDOW cumulative_window AS\n",
    "(\n",
    "    PARTITION BY campaign_id, line_item_id, creative_id\n",
    "    ORDER BY ds\n",
    "    ROWS BETWEEN UNBOUNDED PRECEDING AND CURRENT ROW\n",
    ")\n",
    "\n",
    "ORDER BY line_item_id, creative_id, ds\n",
    "'''\n",
    "\n",
    "df = bq.run_query(sql)"
   ]
  },
  {
   "cell_type": "code",
   "execution_count": null,
   "id": "aa136b26",
   "metadata": {},
   "outputs": [],
   "source": [
    "dist = []\n",
    "for ds in df['ds'].unique():\n",
    "    df_temp = df[df['ds'] == ds]\n",
    "    temp = np.apply_along_axis(\n",
    "        np.argmax,\n",
    "        axis=0,\n",
    "        arr=np.array([beta_simulation(n_clicks=x, n_prints=y, size=100000)[0].tolist() for x, y in df_temp[['n_clicks', 'n_prints']].values])\n",
    "    ).tolist()\n",
    "    counts = pd.Series(df['creative_id'].unique()[temp].tolist()).value_counts()\n",
    "    dist.append(counts.tolist())"
   ]
  },
  {
   "cell_type": "code",
   "execution_count": null,
   "id": "2a040f5e",
   "metadata": {},
   "outputs": [],
   "source": [
    "df_temp = df.loc[df['ds'].map(str) == '2022-12-07', ['creative_id', 'n_prints']].rename({'n_prints': '2022-12-13'}, axis = 1).set_index('creative_id').T"
   ]
  },
  {
   "cell_type": "code",
   "execution_count": null,
   "id": "8fa5df85",
   "metadata": {},
   "outputs": [],
   "source": [
    "df_temp"
   ]
  },
  {
   "cell_type": "code",
   "execution_count": null,
   "id": "345c790f",
   "metadata": {},
   "outputs": [],
   "source": [
    "df2 = pd.DataFrame(dist, index=df['ds'].unique().map(lambda x: str(x + timedelta(days=1))), columns=df['creative_id'].unique())"
   ]
  },
  {
   "cell_type": "code",
   "execution_count": null,
   "id": "db88d1b3",
   "metadata": {},
   "outputs": [],
   "source": [
    "df3 = pd.concat([df_temp, df2])\n",
    "df3"
   ]
  },
  {
   "cell_type": "code",
   "execution_count": null,
   "id": "c9d61c3d",
   "metadata": {},
   "outputs": [],
   "source": [
    "std_df3 = (df3.T / df3.T.sum()).T*100"
   ]
  },
  {
   "cell_type": "code",
   "execution_count": null,
   "id": "f391c5c0",
   "metadata": {},
   "outputs": [],
   "source": [
    "fig, ax = plt.subplots(figsize=(10, 7))\n",
    "std_df3.plot.bar(stacked=True, ax=ax)\n",
    "ax.yaxis.set_major_formatter(ticker.PercentFormatter())\n",
    "ax.legend(bbox_to_anchor=(1,1))\n",
    "plt.tight_layout()\n",
    "plt.savefig('dist_bt.png', dpi=300)"
   ]
  },
  {
   "cell_type": "code",
   "execution_count": null,
   "id": "02f89560",
   "metadata": {},
   "outputs": [],
   "source": [
    "\n",
    "\n",
    "fig, ax = plt.subplots(figsize=(10, 6))\n",
    "lines = []\n",
    "for creative_id in df['creative_id'].unique():\n",
    "    df_temp = df[df['creative_id'] == creative_id]\n",
    "    ax.fill_between(range(1, len(df_temp) + 1), df_temp['p015']*100, df_temp['p995']*100, alpha=.3)\n",
    "    line, = ax.plot(range(1, len(df_temp) + 1), df_temp['p50']*100, label=f'{creative_id} cumulative beta median')\n",
    "    line2, = ax.plot(range(len(df_temp)), df_temp['ctr']*100, color=line.get_color(), ls='dotted', label=f'{creative_id} daily ctr')\n",
    "    lines.append(line)\n",
    "    lines.append(line2)\n",
    "ax.legend(handles=lines, bbox_to_anchor=(1,1))\n",
    "ax.set_xticks(range(len(df_temp) + 1), df_temp['ds'].values.tolist() + [df_temp['ds'].max() + timedelta(days=1)])\n",
    "plt.xticks(rotation=90)\n",
    "ax.set_ylabel('ctr')\n",
    "ax.set_ylim((0, 1.3))\n",
    "ax.yaxis.set_major_formatter(ticker.PercentFormatter())\n",
    "plt.tight_layout()\n",
    "plt.savefig('ctr_performance2.png', dpi=300)"
   ]
  }
 ],
 "metadata": {
  "kernelspec": {
   "display_name": "Python 3 (ipykernel)",
   "language": "python",
   "name": "python3"
  },
  "language_info": {
   "codemirror_mode": {
    "name": "ipython",
    "version": 3
   },
   "file_extension": ".py",
   "mimetype": "text/x-python",
   "name": "python",
   "nbconvert_exporter": "python",
   "pygments_lexer": "ipython3",
   "version": "3.7.4"
  }
 },
 "nbformat": 4,
 "nbformat_minor": 5
}
