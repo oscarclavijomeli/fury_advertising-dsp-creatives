{
 "cells": [
  {
   "cell_type": "code",
   "execution_count": null,
   "id": "6ae7df1d",
   "metadata": {},
   "outputs": [],
   "source": [
    "from app.data.utils.bigquery import bigquery\n",
    "from app.data.utils.load_query import load_format\n",
    "from app.conf.settings import DEFAULT_PARAMS"
   ]
  },
  {
   "cell_type": "code",
   "execution_count": null,
   "id": "75887213",
   "metadata": {},
   "outputs": [],
   "source": [
    "sql = '''\n",
    "DECLARE SITE_ID STRING DEFAULT \"{site_id}\";\n",
    "DECLARE START_DATE DATE DEFAULT \"2023-01-23\";\n",
    "\n",
    "SELECT\n",
    "    COUNT(*)\n",
    "FROM\n",
    "    meli-bi-data.MELIDATA.ADVERTISING\n",
    "WHERE\n",
    "    `ds` >= START_DATE\n",
    "    AND `event` = 'display_prints'\n",
    "    AND site = SITE_ID\n",
    "    AND json_extract_scalar(`event_data`, '$.content_source') = 'DSP'\n",
    "    AND json_extract_scalar(event_data, '$.valid')= 'true'\n",
    "    AND (NOT\n",
    "        REGEXP_CONTAINS(LOWER(`device`.user_agent),\n",
    "        '.*(libwww|wget|lwp|damnBot|bbbike|java|spider|crawl|slurp|bot|feedburner|googleimageproxy|google web preview).*')\n",
    "    )\n",
    "LIMIT 1000\n",
    "'''\n",
    "\n",
    "params = {'site_id': 'MLB'}\n",
    "sql = sql.format(**params)\n",
    "df = bigquery.run_query(sql)\n",
    "df"
   ]
  },
  {
   "cell_type": "code",
   "execution_count": null,
   "id": "55b06ebe",
   "metadata": {},
   "outputs": [],
   "source": [
    "filename = '../src/app/data/creatives/queries/historic_daily_performance.sql'\n",
    "sql = load_format(filename, DEFAULT_PARAMS)\n",
    "bq.run_query(sql)"
   ]
  },
  {
   "cell_type": "code",
   "execution_count": null,
   "id": "98201dae",
   "metadata": {},
   "outputs": [],
   "source": [
    "sql ='''\n",
    "DECLARE SITE_ID STRING DEFAULT '{site_id}';\n",
    "CREATE OR REPLACE TABLE meli-bi-data.SBOX_DSPCREATIVOS.BETA_ESTIMATION_LAST_DATE_HOUR AS\n",
    "SELECT SITE_ID AS site, MAX(CONCAT(ds, 'T', hour)) AS ds_hour\n",
    "FROM meli-bi-data.SBOX_DSPCREATIVOS.BQ_PRINTS_CLICKS_PER_HOUR\n",
    "WHERE site = SITE_ID\n",
    "'''\n",
    "sql = sql.format(**DEFAULT_PARAMS)\n",
    "bq.run_query(sql)"
   ]
  },
  {
   "cell_type": "code",
   "execution_count": null,
   "id": "bbd17040",
   "metadata": {},
   "outputs": [],
   "source": [
    "filename = '../src/app/data/creatives/queries/daily_insert.sql'\n",
    "sql = load_format(filename, DEFAULT_PARAMS)\n",
    "bq.run_query(sql)"
   ]
  },
  {
   "cell_type": "code",
   "execution_count": null,
   "id": "e4cea64c",
   "metadata": {},
   "outputs": [],
   "source": [
    "filename = '../src/app/data/creatives/queries/group.sql'\n",
    "sql = load_format(filename, DEFAULT_PARAMS)\n",
    "bq.run_query(sql)"
   ]
  },
  {
   "cell_type": "code",
   "execution_count": null,
   "id": "97075514",
   "metadata": {},
   "outputs": [],
   "source": [
    "sql ='''\n",
    "DECLARE SITE_ID STRING DEFAULT '{site_id}';\n",
    "CREATE OR REPLACE TABLE meli-bi-data.SBOX_DSPCREATIVOS.BETA_ESTIMATION_LAST_DATE_HOUR AS\n",
    "SELECT DISTINCT * FROM meli-bi-data.SBOX_DSPCREATIVOS.BETA_ESTIMATION_LAST_DATE_HOUR\n",
    "WHERE site = SITE_ID\n",
    "'''\n",
    "sql = sql.format(**DEFAULT_PARAMS)\n",
    "bq.run_query(sql)"
   ]
  },
  {
   "cell_type": "code",
   "execution_count": null,
   "id": "825f6984",
   "metadata": {},
   "outputs": [],
   "source": [
    "sql ='''\n",
    "DECLARE SITE_ID STRING DEFAULT '{site_id}';\n",
    "DECLARE max_ds_hour STRING;\n",
    "\n",
    "SET max_ds_hour = (SELECT MAX(max_ds_hour) FROM meli-bi-data.SBOX_DSPCREATIVOS.BETA_ESTIMATION_LAST_DATE_HOUR WHERE site = SITE_ID);\n",
    "\n",
    "DELETE FROM meli-bi-data.SBOX_DSPCREATIVOS.BETA_ESTIMATION_LAST_DATE_HOUR\n",
    "WHERE site = SITE_ID AND ds_hour = max_ds_hour;\n",
    "'''\n",
    "sql = sql.format(**DEFAULT_PARAMS)\n",
    "bq.run_query(sql)"
   ]
  },
  {
   "cell_type": "code",
   "execution_count": null,
   "id": "230026bf",
   "metadata": {},
   "outputs": [],
   "source": []
  }
 ],
 "metadata": {
  "kernelspec": {
   "display_name": "Python 3 (ipykernel)",
   "language": "python",
   "name": "python3"
  },
  "language_info": {
   "codemirror_mode": {
    "name": "ipython",
    "version": 3
   },
   "file_extension": ".py",
   "mimetype": "text/x-python",
   "name": "python",
   "nbconvert_exporter": "python",
   "pygments_lexer": "ipython3",
   "version": "3.7.4"
  }
 },
 "nbformat": 4,
 "nbformat_minor": 5
}
