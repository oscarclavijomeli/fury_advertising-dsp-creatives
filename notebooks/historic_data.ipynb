{
 "cells": [
  {
   "cell_type": "code",
   "execution_count": null,
   "id": "38813555",
   "metadata": {},
   "outputs": [],
   "source": [
    "from datetime import datetime\n",
    "from app.data.utils.bigquery import BigQuery\n",
    "from app.data.utils.load_query import load_format\n",
    "bq = BigQuery()"
   ]
  },
  {
   "cell_type": "code",
   "execution_count": null,
   "id": "755edf31",
   "metadata": {},
   "outputs": [],
   "source": [
    "filename = '../src/app/data/creatives/queries/historic_daily_performance.sql'\n",
    "sql = load_format(filename, {})\n",
    "bq.run_query(sql)"
   ]
  },
  {
   "cell_type": "code",
   "execution_count": null,
   "id": "beb6a029",
   "metadata": {},
   "outputs": [],
   "source": [
    "sql = '''\n",
    "CREATE OR REPLACE TABLE meli-bi-data.SBOX_DSPCREATIVOS.BQ_PRINTS_CLICKS\n",
    "AS\n",
    "SELECT\n",
    "    site,\n",
    "    campaign_id, line_item_id, creative_id,\n",
    "    sum(n_prints) AS n_prints,\n",
    "    sum(n_clicks) AS n_clicks,\n",
    "    DATE_DIFF(MAX(ds), MIN(ds), DAY) + 1 AS days\n",
    "FROM meli-bi-data.SBOX_DSPCREATIVOS.BQ_PRINTS_CLICKS_PER_DAY\n",
    "WHERE creative_id IS NOT NULL\n",
    "GROUP BY 1,2,3,4\n",
    "'''\n",
    "bq.run_query(sql)"
   ]
  },
  {
   "cell_type": "code",
   "execution_count": null,
   "id": "e908eefa",
   "metadata": {},
   "outputs": [],
   "source": []
  }
 ],
 "metadata": {
  "kernelspec": {
   "display_name": "Python 3 (ipykernel)",
   "language": "python",
   "name": "python3"
  },
  "language_info": {
   "codemirror_mode": {
    "name": "ipython",
    "version": 3
   },
   "file_extension": ".py",
   "mimetype": "text/x-python",
   "name": "python",
   "nbconvert_exporter": "python",
   "pygments_lexer": "ipython3",
   "version": "3.7.4"
  }
 },
 "nbformat": 4,
 "nbformat_minor": 5
}
